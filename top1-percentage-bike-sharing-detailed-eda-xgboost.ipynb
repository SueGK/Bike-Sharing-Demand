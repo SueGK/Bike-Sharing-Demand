{
 "cells": [
  {
   "attachments": {},
   "cell_type": "markdown",
   "id": "ece35357",
   "metadata": {},
   "source": [
    "My kaggle notebook url is https://www.kaggle.com/code/guosue/top-1-bike-sharing-detailed-eda-xgboost"
   ]
  },
  {
   "cell_type": "code",
   "execution_count": 1,
   "id": "7631bf2f",
   "metadata": {
    "ExecuteTime": {
     "end_time": "2022-05-26T04:50:51.839508Z",
     "start_time": "2022-05-26T04:50:47.392782Z"
    },
    "execution": {
     "iopub.execute_input": "2023-01-12T21:07:52.005215Z",
     "iopub.status.busy": "2023-01-12T21:07:52.004334Z",
     "iopub.status.idle": "2023-01-12T21:07:53.509156Z",
     "shell.execute_reply": "2023-01-12T21:07:53.507925Z"
    },
    "papermill": {
     "duration": 1.530278,
     "end_time": "2023-01-12T21:07:53.512204",
     "exception": false,
     "start_time": "2023-01-12T21:07:51.981926",
     "status": "completed"
    },
    "tags": []
   },
   "outputs": [],
   "source": [
    "import numpy as np\n",
    "import pandas as pd\n",
    "import seaborn as sn\n",
    "from datetime import datetime\n",
    "import matplotlib.pyplot as plt\n",
    "import warnings\n",
    "from sklearn.model_selection import GridSearchCV\n",
    "from sklearn import metrics\n",
    "import xgboost as xgb\n",
    "pd.options.mode.chained_assignment = None\n",
    "warnings.filterwarnings(\"ignore\", category=DeprecationWarning)\n",
    "%matplotlib inline"
   ]
  },
  {
   "cell_type": "markdown",
   "id": "c116eaef",
   "metadata": {
    "papermill": {
     "duration": 0.013605,
     "end_time": "2023-01-12T21:07:53.540085",
     "exception": false,
     "start_time": "2023-01-12T21:07:53.526480",
     "status": "completed"
    },
    "tags": []
   },
   "source": [
    "# About Dataset"
   ]
  },
  {
   "cell_type": "code",
   "execution_count": 2,
   "id": "4ec6748c",
   "metadata": {
    "ExecuteTime": {
     "end_time": "2022-05-25T13:03:57.648729Z",
     "start_time": "2022-05-25T13:03:57.447134Z"
    },
    "execution": {
     "iopub.execute_input": "2023-01-12T21:07:53.576247Z",
     "iopub.status.busy": "2023-01-12T21:07:53.575517Z",
     "iopub.status.idle": "2023-01-12T21:07:53.661496Z",
     "shell.execute_reply": "2023-01-12T21:07:53.660440Z"
    },
    "papermill": {
     "duration": 0.108345,
     "end_time": "2023-01-12T21:07:53.664503",
     "exception": false,
     "start_time": "2023-01-12T21:07:53.556158",
     "status": "completed"
    },
    "tags": []
   },
   "outputs": [],
   "source": [
    "# Load dataset\n",
    "train = pd.read_csv('/kaggle/input/bike-sharing-demand/train.csv')\n",
    "test = pd.read_csv('/kaggle/input/bike-sharing-demand/test.csv')"
   ]
  },
  {
   "cell_type": "code",
   "execution_count": 3,
   "id": "53603e0d",
   "metadata": {
    "execution": {
     "iopub.execute_input": "2023-01-12T21:07:53.701191Z",
     "iopub.status.busy": "2023-01-12T21:07:53.700668Z",
     "iopub.status.idle": "2023-01-12T21:07:53.711104Z",
     "shell.execute_reply": "2023-01-12T21:07:53.709806Z"
    },
    "papermill": {
     "duration": 0.029979,
     "end_time": "2023-01-12T21:07:53.714488",
     "exception": false,
     "start_time": "2023-01-12T21:07:53.684509",
     "status": "completed"
    },
    "tags": []
   },
   "outputs": [
    {
     "data": {
      "text/plain": [
       "(10886, 12)"
      ]
     },
     "execution_count": 3,
     "metadata": {},
     "output_type": "execute_result"
    }
   ],
   "source": [
    "train.shape"
   ]
  },
  {
   "cell_type": "code",
   "execution_count": 4,
   "id": "d8ba4dc4",
   "metadata": {
    "ExecuteTime": {
     "end_time": "2022-05-25T13:03:57.704126Z",
     "start_time": "2022-05-25T13:03:57.651837Z"
    },
    "execution": {
     "iopub.execute_input": "2023-01-12T21:07:53.745902Z",
     "iopub.status.busy": "2023-01-12T21:07:53.745174Z",
     "iopub.status.idle": "2023-01-12T21:07:53.773738Z",
     "shell.execute_reply": "2023-01-12T21:07:53.771953Z"
    },
    "papermill": {
     "duration": 0.047622,
     "end_time": "2023-01-12T21:07:53.776475",
     "exception": false,
     "start_time": "2023-01-12T21:07:53.728853",
     "status": "completed"
    },
    "tags": []
   },
   "outputs": [
    {
     "name": "stdout",
     "output_type": "stream",
     "text": [
      "<class 'pandas.core.frame.DataFrame'>\n",
      "RangeIndex: 10886 entries, 0 to 10885\n",
      "Data columns (total 12 columns):\n",
      " #   Column      Non-Null Count  Dtype  \n",
      "---  ------      --------------  -----  \n",
      " 0   datetime    10886 non-null  object \n",
      " 1   season      10886 non-null  int64  \n",
      " 2   holiday     10886 non-null  int64  \n",
      " 3   workingday  10886 non-null  int64  \n",
      " 4   weather     10886 non-null  int64  \n",
      " 5   temp        10886 non-null  float64\n",
      " 6   atemp       10886 non-null  float64\n",
      " 7   humidity    10886 non-null  int64  \n",
      " 8   windspeed   10886 non-null  float64\n",
      " 9   casual      10886 non-null  int64  \n",
      " 10  registered  10886 non-null  int64  \n",
      " 11  count       10886 non-null  int64  \n",
      "dtypes: float64(3), int64(8), object(1)\n",
      "memory usage: 1020.7+ KB\n"
     ]
    }
   ],
   "source": [
    "train.info()"
   ]
  },
  {
   "cell_type": "code",
   "execution_count": 5,
   "id": "de7164b6",
   "metadata": {
    "execution": {
     "iopub.execute_input": "2023-01-12T21:07:53.807762Z",
     "iopub.status.busy": "2023-01-12T21:07:53.807311Z",
     "iopub.status.idle": "2023-01-12T21:07:53.823985Z",
     "shell.execute_reply": "2023-01-12T21:07:53.821820Z"
    },
    "papermill": {
     "duration": 0.036279,
     "end_time": "2023-01-12T21:07:53.827043",
     "exception": false,
     "start_time": "2023-01-12T21:07:53.790764",
     "status": "completed"
    },
    "tags": []
   },
   "outputs": [
    {
     "name": "stdout",
     "output_type": "stream",
     "text": [
      "<class 'pandas.core.frame.DataFrame'>\n",
      "RangeIndex: 6493 entries, 0 to 6492\n",
      "Data columns (total 9 columns):\n",
      " #   Column      Non-Null Count  Dtype  \n",
      "---  ------      --------------  -----  \n",
      " 0   datetime    6493 non-null   object \n",
      " 1   season      6493 non-null   int64  \n",
      " 2   holiday     6493 non-null   int64  \n",
      " 3   workingday  6493 non-null   int64  \n",
      " 4   weather     6493 non-null   int64  \n",
      " 5   temp        6493 non-null   float64\n",
      " 6   atemp       6493 non-null   float64\n",
      " 7   humidity    6493 non-null   int64  \n",
      " 8   windspeed   6493 non-null   float64\n",
      "dtypes: float64(3), int64(5), object(1)\n",
      "memory usage: 456.7+ KB\n"
     ]
    }
   ],
   "source": [
    "# test dataset doesn't have 'casual', 'registered' columns and target column 'count'\n",
    "test.info()"
   ]
  },
  {
   "cell_type": "code",
   "execution_count": 6,
   "id": "707d8398",
   "metadata": {
    "execution": {
     "iopub.execute_input": "2023-01-12T21:07:53.859133Z",
     "iopub.status.busy": "2023-01-12T21:07:53.857859Z",
     "iopub.status.idle": "2023-01-12T21:07:53.917406Z",
     "shell.execute_reply": "2023-01-12T21:07:53.916027Z"
    },
    "papermill": {
     "duration": 0.078087,
     "end_time": "2023-01-12T21:07:53.919988",
     "exception": false,
     "start_time": "2023-01-12T21:07:53.841901",
     "status": "completed"
    },
    "tags": []
   },
   "outputs": [
    {
     "data": {
      "text/html": [
       "<div>\n",
       "<style scoped>\n",
       "    .dataframe tbody tr th:only-of-type {\n",
       "        vertical-align: middle;\n",
       "    }\n",
       "\n",
       "    .dataframe tbody tr th {\n",
       "        vertical-align: top;\n",
       "    }\n",
       "\n",
       "    .dataframe thead th {\n",
       "        text-align: right;\n",
       "    }\n",
       "</style>\n",
       "<table border=\"1\" class=\"dataframe\">\n",
       "  <thead>\n",
       "    <tr style=\"text-align: right;\">\n",
       "      <th></th>\n",
       "      <th>season</th>\n",
       "      <th>holiday</th>\n",
       "      <th>workingday</th>\n",
       "      <th>weather</th>\n",
       "      <th>temp</th>\n",
       "      <th>atemp</th>\n",
       "      <th>humidity</th>\n",
       "      <th>windspeed</th>\n",
       "      <th>casual</th>\n",
       "      <th>registered</th>\n",
       "      <th>count</th>\n",
       "    </tr>\n",
       "  </thead>\n",
       "  <tbody>\n",
       "    <tr>\n",
       "      <th>count</th>\n",
       "      <td>10886.000000</td>\n",
       "      <td>10886.000000</td>\n",
       "      <td>10886.000000</td>\n",
       "      <td>10886.000000</td>\n",
       "      <td>10886.00000</td>\n",
       "      <td>10886.000000</td>\n",
       "      <td>10886.000000</td>\n",
       "      <td>10886.000000</td>\n",
       "      <td>10886.000000</td>\n",
       "      <td>10886.000000</td>\n",
       "      <td>10886.000000</td>\n",
       "    </tr>\n",
       "    <tr>\n",
       "      <th>mean</th>\n",
       "      <td>2.506614</td>\n",
       "      <td>0.028569</td>\n",
       "      <td>0.680875</td>\n",
       "      <td>1.418427</td>\n",
       "      <td>20.23086</td>\n",
       "      <td>23.655084</td>\n",
       "      <td>61.886460</td>\n",
       "      <td>12.799395</td>\n",
       "      <td>36.021955</td>\n",
       "      <td>155.552177</td>\n",
       "      <td>191.574132</td>\n",
       "    </tr>\n",
       "    <tr>\n",
       "      <th>std</th>\n",
       "      <td>1.116174</td>\n",
       "      <td>0.166599</td>\n",
       "      <td>0.466159</td>\n",
       "      <td>0.633839</td>\n",
       "      <td>7.79159</td>\n",
       "      <td>8.474601</td>\n",
       "      <td>19.245033</td>\n",
       "      <td>8.164537</td>\n",
       "      <td>49.960477</td>\n",
       "      <td>151.039033</td>\n",
       "      <td>181.144454</td>\n",
       "    </tr>\n",
       "    <tr>\n",
       "      <th>min</th>\n",
       "      <td>1.000000</td>\n",
       "      <td>0.000000</td>\n",
       "      <td>0.000000</td>\n",
       "      <td>1.000000</td>\n",
       "      <td>0.82000</td>\n",
       "      <td>0.760000</td>\n",
       "      <td>0.000000</td>\n",
       "      <td>0.000000</td>\n",
       "      <td>0.000000</td>\n",
       "      <td>0.000000</td>\n",
       "      <td>1.000000</td>\n",
       "    </tr>\n",
       "    <tr>\n",
       "      <th>25%</th>\n",
       "      <td>2.000000</td>\n",
       "      <td>0.000000</td>\n",
       "      <td>0.000000</td>\n",
       "      <td>1.000000</td>\n",
       "      <td>13.94000</td>\n",
       "      <td>16.665000</td>\n",
       "      <td>47.000000</td>\n",
       "      <td>7.001500</td>\n",
       "      <td>4.000000</td>\n",
       "      <td>36.000000</td>\n",
       "      <td>42.000000</td>\n",
       "    </tr>\n",
       "    <tr>\n",
       "      <th>50%</th>\n",
       "      <td>3.000000</td>\n",
       "      <td>0.000000</td>\n",
       "      <td>1.000000</td>\n",
       "      <td>1.000000</td>\n",
       "      <td>20.50000</td>\n",
       "      <td>24.240000</td>\n",
       "      <td>62.000000</td>\n",
       "      <td>12.998000</td>\n",
       "      <td>17.000000</td>\n",
       "      <td>118.000000</td>\n",
       "      <td>145.000000</td>\n",
       "    </tr>\n",
       "    <tr>\n",
       "      <th>75%</th>\n",
       "      <td>4.000000</td>\n",
       "      <td>0.000000</td>\n",
       "      <td>1.000000</td>\n",
       "      <td>2.000000</td>\n",
       "      <td>26.24000</td>\n",
       "      <td>31.060000</td>\n",
       "      <td>77.000000</td>\n",
       "      <td>16.997900</td>\n",
       "      <td>49.000000</td>\n",
       "      <td>222.000000</td>\n",
       "      <td>284.000000</td>\n",
       "    </tr>\n",
       "    <tr>\n",
       "      <th>max</th>\n",
       "      <td>4.000000</td>\n",
       "      <td>1.000000</td>\n",
       "      <td>1.000000</td>\n",
       "      <td>4.000000</td>\n",
       "      <td>41.00000</td>\n",
       "      <td>45.455000</td>\n",
       "      <td>100.000000</td>\n",
       "      <td>56.996900</td>\n",
       "      <td>367.000000</td>\n",
       "      <td>886.000000</td>\n",
       "      <td>977.000000</td>\n",
       "    </tr>\n",
       "  </tbody>\n",
       "</table>\n",
       "</div>"
      ],
      "text/plain": [
       "             season       holiday    workingday       weather         temp  \\\n",
       "count  10886.000000  10886.000000  10886.000000  10886.000000  10886.00000   \n",
       "mean       2.506614      0.028569      0.680875      1.418427     20.23086   \n",
       "std        1.116174      0.166599      0.466159      0.633839      7.79159   \n",
       "min        1.000000      0.000000      0.000000      1.000000      0.82000   \n",
       "25%        2.000000      0.000000      0.000000      1.000000     13.94000   \n",
       "50%        3.000000      0.000000      1.000000      1.000000     20.50000   \n",
       "75%        4.000000      0.000000      1.000000      2.000000     26.24000   \n",
       "max        4.000000      1.000000      1.000000      4.000000     41.00000   \n",
       "\n",
       "              atemp      humidity     windspeed        casual    registered  \\\n",
       "count  10886.000000  10886.000000  10886.000000  10886.000000  10886.000000   \n",
       "mean      23.655084     61.886460     12.799395     36.021955    155.552177   \n",
       "std        8.474601     19.245033      8.164537     49.960477    151.039033   \n",
       "min        0.760000      0.000000      0.000000      0.000000      0.000000   \n",
       "25%       16.665000     47.000000      7.001500      4.000000     36.000000   \n",
       "50%       24.240000     62.000000     12.998000     17.000000    118.000000   \n",
       "75%       31.060000     77.000000     16.997900     49.000000    222.000000   \n",
       "max       45.455000    100.000000     56.996900    367.000000    886.000000   \n",
       "\n",
       "              count  \n",
       "count  10886.000000  \n",
       "mean     191.574132  \n",
       "std      181.144454  \n",
       "min        1.000000  \n",
       "25%       42.000000  \n",
       "50%      145.000000  \n",
       "75%      284.000000  \n",
       "max      977.000000  "
      ]
     },
     "execution_count": 6,
     "metadata": {},
     "output_type": "execute_result"
    }
   ],
   "source": [
    "train.describe()"
   ]
  },
  {
   "cell_type": "code",
   "execution_count": 7,
   "id": "3235c074",
   "metadata": {
    "execution": {
     "iopub.execute_input": "2023-01-12T21:07:53.951672Z",
     "iopub.status.busy": "2023-01-12T21:07:53.950717Z",
     "iopub.status.idle": "2023-01-12T21:07:53.957379Z",
     "shell.execute_reply": "2023-01-12T21:07:53.956244Z"
    },
    "papermill": {
     "duration": 0.025571,
     "end_time": "2023-01-12T21:07:53.960290",
     "exception": false,
     "start_time": "2023-01-12T21:07:53.934719",
     "status": "completed"
    },
    "tags": []
   },
   "outputs": [],
   "source": [
    "# According to the data field explaination, we can seperate columns into: (not the real Dtype)\n",
    "\n",
    "# numerical columns\n",
    "numeric_cols = ['temp', 'atemp','humidity', 'windspeed']\n",
    "\n",
    "# categorical columns\n",
    "category_cols = ['season', 'holiday', 'weather']\n",
    "\n",
    "# time series column \n",
    "['datetime']\n",
    "\n",
    "# target\n",
    "target = 'count'\n",
    "\n",
    "# casual, registered columns will be dropped\n",
    "\n",
    "# sanity check\n",
    "#assert len(category_cols) + len(numeric_cols) + 1 == train.shape[1]"
   ]
  },
  {
   "cell_type": "markdown",
   "id": "e6d7a00f",
   "metadata": {
    "papermill": {
     "duration": 0.015297,
     "end_time": "2023-01-12T21:07:53.990956",
     "exception": false,
     "start_time": "2023-01-12T21:07:53.975659",
     "status": "completed"
    },
    "tags": []
   },
   "source": [
    "# Parse datetime"
   ]
  },
  {
   "cell_type": "code",
   "execution_count": 8,
   "id": "d5b4fc58",
   "metadata": {
    "execution": {
     "iopub.execute_input": "2023-01-12T21:07:54.023051Z",
     "iopub.status.busy": "2023-01-12T21:07:54.022574Z",
     "iopub.status.idle": "2023-01-12T21:07:54.083436Z",
     "shell.execute_reply": "2023-01-12T21:07:54.082521Z"
    },
    "papermill": {
     "duration": 0.079355,
     "end_time": "2023-01-12T21:07:54.085845",
     "exception": false,
     "start_time": "2023-01-12T21:07:54.006490",
     "status": "completed"
    },
    "tags": []
   },
   "outputs": [
    {
     "data": {
      "text/html": [
       "<div>\n",
       "<style scoped>\n",
       "    .dataframe tbody tr th:only-of-type {\n",
       "        vertical-align: middle;\n",
       "    }\n",
       "\n",
       "    .dataframe tbody tr th {\n",
       "        vertical-align: top;\n",
       "    }\n",
       "\n",
       "    .dataframe thead th {\n",
       "        text-align: right;\n",
       "    }\n",
       "</style>\n",
       "<table border=\"1\" class=\"dataframe\">\n",
       "  <thead>\n",
       "    <tr style=\"text-align: right;\">\n",
       "      <th></th>\n",
       "      <th>datetime</th>\n",
       "      <th>season</th>\n",
       "      <th>holiday</th>\n",
       "      <th>workingday</th>\n",
       "      <th>weather</th>\n",
       "      <th>temp</th>\n",
       "      <th>atemp</th>\n",
       "      <th>humidity</th>\n",
       "      <th>windspeed</th>\n",
       "      <th>casual</th>\n",
       "      <th>registered</th>\n",
       "      <th>count</th>\n",
       "      <th>year</th>\n",
       "      <th>month</th>\n",
       "      <th>day</th>\n",
       "      <th>hour</th>\n",
       "      <th>week</th>\n",
       "      <th>weekday</th>\n",
       "    </tr>\n",
       "  </thead>\n",
       "  <tbody>\n",
       "    <tr>\n",
       "      <th>0</th>\n",
       "      <td>2011-01-01 00:00:00</td>\n",
       "      <td>1</td>\n",
       "      <td>0</td>\n",
       "      <td>0</td>\n",
       "      <td>1</td>\n",
       "      <td>9.84</td>\n",
       "      <td>14.395</td>\n",
       "      <td>81</td>\n",
       "      <td>0.0</td>\n",
       "      <td>3</td>\n",
       "      <td>13</td>\n",
       "      <td>16</td>\n",
       "      <td>2011</td>\n",
       "      <td>1</td>\n",
       "      <td>1</td>\n",
       "      <td>0</td>\n",
       "      <td>52</td>\n",
       "      <td>5</td>\n",
       "    </tr>\n",
       "    <tr>\n",
       "      <th>1</th>\n",
       "      <td>2011-01-01 01:00:00</td>\n",
       "      <td>1</td>\n",
       "      <td>0</td>\n",
       "      <td>0</td>\n",
       "      <td>1</td>\n",
       "      <td>9.02</td>\n",
       "      <td>13.635</td>\n",
       "      <td>80</td>\n",
       "      <td>0.0</td>\n",
       "      <td>8</td>\n",
       "      <td>32</td>\n",
       "      <td>40</td>\n",
       "      <td>2011</td>\n",
       "      <td>1</td>\n",
       "      <td>1</td>\n",
       "      <td>1</td>\n",
       "      <td>52</td>\n",
       "      <td>5</td>\n",
       "    </tr>\n",
       "    <tr>\n",
       "      <th>2</th>\n",
       "      <td>2011-01-01 02:00:00</td>\n",
       "      <td>1</td>\n",
       "      <td>0</td>\n",
       "      <td>0</td>\n",
       "      <td>1</td>\n",
       "      <td>9.02</td>\n",
       "      <td>13.635</td>\n",
       "      <td>80</td>\n",
       "      <td>0.0</td>\n",
       "      <td>5</td>\n",
       "      <td>27</td>\n",
       "      <td>32</td>\n",
       "      <td>2011</td>\n",
       "      <td>1</td>\n",
       "      <td>1</td>\n",
       "      <td>2</td>\n",
       "      <td>52</td>\n",
       "      <td>5</td>\n",
       "    </tr>\n",
       "    <tr>\n",
       "      <th>3</th>\n",
       "      <td>2011-01-01 03:00:00</td>\n",
       "      <td>1</td>\n",
       "      <td>0</td>\n",
       "      <td>0</td>\n",
       "      <td>1</td>\n",
       "      <td>9.84</td>\n",
       "      <td>14.395</td>\n",
       "      <td>75</td>\n",
       "      <td>0.0</td>\n",
       "      <td>3</td>\n",
       "      <td>10</td>\n",
       "      <td>13</td>\n",
       "      <td>2011</td>\n",
       "      <td>1</td>\n",
       "      <td>1</td>\n",
       "      <td>3</td>\n",
       "      <td>52</td>\n",
       "      <td>5</td>\n",
       "    </tr>\n",
       "    <tr>\n",
       "      <th>4</th>\n",
       "      <td>2011-01-01 04:00:00</td>\n",
       "      <td>1</td>\n",
       "      <td>0</td>\n",
       "      <td>0</td>\n",
       "      <td>1</td>\n",
       "      <td>9.84</td>\n",
       "      <td>14.395</td>\n",
       "      <td>75</td>\n",
       "      <td>0.0</td>\n",
       "      <td>0</td>\n",
       "      <td>1</td>\n",
       "      <td>1</td>\n",
       "      <td>2011</td>\n",
       "      <td>1</td>\n",
       "      <td>1</td>\n",
       "      <td>4</td>\n",
       "      <td>52</td>\n",
       "      <td>5</td>\n",
       "    </tr>\n",
       "  </tbody>\n",
       "</table>\n",
       "</div>"
      ],
      "text/plain": [
       "             datetime  season  holiday  workingday  weather  temp   atemp  \\\n",
       "0 2011-01-01 00:00:00       1        0           0        1  9.84  14.395   \n",
       "1 2011-01-01 01:00:00       1        0           0        1  9.02  13.635   \n",
       "2 2011-01-01 02:00:00       1        0           0        1  9.02  13.635   \n",
       "3 2011-01-01 03:00:00       1        0           0        1  9.84  14.395   \n",
       "4 2011-01-01 04:00:00       1        0           0        1  9.84  14.395   \n",
       "\n",
       "   humidity  windspeed  casual  registered  count  year  month  day  hour  \\\n",
       "0        81        0.0       3          13     16  2011      1    1     0   \n",
       "1        80        0.0       8          32     40  2011      1    1     1   \n",
       "2        80        0.0       5          27     32  2011      1    1     2   \n",
       "3        75        0.0       3          10     13  2011      1    1     3   \n",
       "4        75        0.0       0           1      1  2011      1    1     4   \n",
       "\n",
       "   week  weekday  \n",
       "0    52        5  \n",
       "1    52        5  \n",
       "2    52        5  \n",
       "3    52        5  \n",
       "4    52        5  "
      ]
     },
     "execution_count": 8,
     "metadata": {},
     "output_type": "execute_result"
    }
   ],
   "source": [
    "def parse_datetime(df):\n",
    "    df['datetime'] = pd.to_datetime(df['datetime'])\n",
    "    df['year'] = df['datetime'].dt.year\n",
    "    df['month'] = df['datetime'].dt.month\n",
    "    df['day'] = df['datetime'].dt.day\n",
    "    df['hour'] = df['datetime'].dt.hour\n",
    "    # df['time'] = df.datetime.dt.strftime('%H:%M:%S')\n",
    "    # \n",
    "    df['week'] = df['datetime'].dt.isocalendar().week\n",
    "    df['weekday'] = df['datetime'].dt.dayofweek\n",
    "parse_datetime(train)\n",
    "parse_datetime(test)\n",
    "#train.drop(['datetime', 'casual', 'registered'], axis=1, inplace=True)\n",
    "#test.drop(['datetime'], axis=1, inplace=True)\n",
    "train.head()"
   ]
  },
  {
   "cell_type": "markdown",
   "id": "cc4e120d",
   "metadata": {
    "papermill": {
     "duration": 0.014795,
     "end_time": "2023-01-12T21:07:54.116455",
     "exception": false,
     "start_time": "2023-01-12T21:07:54.101660",
     "status": "completed"
    },
    "tags": []
   },
   "source": [
    "# Missing values"
   ]
  },
  {
   "cell_type": "code",
   "execution_count": 9,
   "id": "d2ebae05",
   "metadata": {
    "execution": {
     "iopub.execute_input": "2023-01-12T21:07:54.148300Z",
     "iopub.status.busy": "2023-01-12T21:07:54.147845Z",
     "iopub.status.idle": "2023-01-12T21:07:54.175826Z",
     "shell.execute_reply": "2023-01-12T21:07:54.174934Z"
    },
    "papermill": {
     "duration": 0.046719,
     "end_time": "2023-01-12T21:07:54.178012",
     "exception": false,
     "start_time": "2023-01-12T21:07:54.131293",
     "status": "completed"
    },
    "tags": []
   },
   "outputs": [
    {
     "data": {
      "text/html": [
       "<div>\n",
       "<style scoped>\n",
       "    .dataframe tbody tr th:only-of-type {\n",
       "        vertical-align: middle;\n",
       "    }\n",
       "\n",
       "    .dataframe tbody tr th {\n",
       "        vertical-align: top;\n",
       "    }\n",
       "\n",
       "    .dataframe thead th {\n",
       "        text-align: right;\n",
       "    }\n",
       "</style>\n",
       "<table border=\"1\" class=\"dataframe\">\n",
       "  <thead>\n",
       "    <tr style=\"text-align: right;\">\n",
       "      <th></th>\n",
       "      <th>missNum</th>\n",
       "      <th>missPercent</th>\n",
       "    </tr>\n",
       "  </thead>\n",
       "  <tbody>\n",
       "    <tr>\n",
       "      <th>datetime</th>\n",
       "      <td>0</td>\n",
       "      <td>0.0</td>\n",
       "    </tr>\n",
       "    <tr>\n",
       "      <th>season</th>\n",
       "      <td>0</td>\n",
       "      <td>0.0</td>\n",
       "    </tr>\n",
       "    <tr>\n",
       "      <th>week</th>\n",
       "      <td>0</td>\n",
       "      <td>0.0</td>\n",
       "    </tr>\n",
       "    <tr>\n",
       "      <th>hour</th>\n",
       "      <td>0</td>\n",
       "      <td>0.0</td>\n",
       "    </tr>\n",
       "    <tr>\n",
       "      <th>day</th>\n",
       "      <td>0</td>\n",
       "      <td>0.0</td>\n",
       "    </tr>\n",
       "    <tr>\n",
       "      <th>month</th>\n",
       "      <td>0</td>\n",
       "      <td>0.0</td>\n",
       "    </tr>\n",
       "    <tr>\n",
       "      <th>year</th>\n",
       "      <td>0</td>\n",
       "      <td>0.0</td>\n",
       "    </tr>\n",
       "    <tr>\n",
       "      <th>count</th>\n",
       "      <td>0</td>\n",
       "      <td>0.0</td>\n",
       "    </tr>\n",
       "    <tr>\n",
       "      <th>registered</th>\n",
       "      <td>0</td>\n",
       "      <td>0.0</td>\n",
       "    </tr>\n",
       "    <tr>\n",
       "      <th>casual</th>\n",
       "      <td>0</td>\n",
       "      <td>0.0</td>\n",
       "    </tr>\n",
       "    <tr>\n",
       "      <th>windspeed</th>\n",
       "      <td>0</td>\n",
       "      <td>0.0</td>\n",
       "    </tr>\n",
       "    <tr>\n",
       "      <th>humidity</th>\n",
       "      <td>0</td>\n",
       "      <td>0.0</td>\n",
       "    </tr>\n",
       "    <tr>\n",
       "      <th>atemp</th>\n",
       "      <td>0</td>\n",
       "      <td>0.0</td>\n",
       "    </tr>\n",
       "    <tr>\n",
       "      <th>temp</th>\n",
       "      <td>0</td>\n",
       "      <td>0.0</td>\n",
       "    </tr>\n",
       "    <tr>\n",
       "      <th>weather</th>\n",
       "      <td>0</td>\n",
       "      <td>0.0</td>\n",
       "    </tr>\n",
       "    <tr>\n",
       "      <th>workingday</th>\n",
       "      <td>0</td>\n",
       "      <td>0.0</td>\n",
       "    </tr>\n",
       "    <tr>\n",
       "      <th>holiday</th>\n",
       "      <td>0</td>\n",
       "      <td>0.0</td>\n",
       "    </tr>\n",
       "    <tr>\n",
       "      <th>weekday</th>\n",
       "      <td>0</td>\n",
       "      <td>0.0</td>\n",
       "    </tr>\n",
       "  </tbody>\n",
       "</table>\n",
       "</div>"
      ],
      "text/plain": [
       "            missNum  missPercent\n",
       "datetime          0          0.0\n",
       "season            0          0.0\n",
       "week              0          0.0\n",
       "hour              0          0.0\n",
       "day               0          0.0\n",
       "month             0          0.0\n",
       "year              0          0.0\n",
       "count             0          0.0\n",
       "registered        0          0.0\n",
       "casual            0          0.0\n",
       "windspeed         0          0.0\n",
       "humidity          0          0.0\n",
       "atemp             0          0.0\n",
       "temp              0          0.0\n",
       "weather           0          0.0\n",
       "workingday        0          0.0\n",
       "holiday           0          0.0\n",
       "weekday           0          0.0"
      ]
     },
     "execution_count": 9,
     "metadata": {},
     "output_type": "execute_result"
    }
   ],
   "source": [
    "def missing (df):\n",
    "    \"\"\"\n",
    "    calculate % missing value for each column\n",
    "    \"\"\"\n",
    "    missing_number = df.isnull().sum().sort_values(ascending=False)                              \n",
    "    missing_percent = (df.isnull().sum()/df.isnull().count()).sort_values(ascending=False)         \n",
    "    missing_values = pd.concat([missing_number, missing_percent], axis=1, keys=['missNum', 'missPercent'])   \n",
    "    return missing_values\n",
    "\n",
    "missing(train)"
   ]
  },
  {
   "cell_type": "markdown",
   "id": "509f063a",
   "metadata": {
    "papermill": {
     "duration": 0.015003,
     "end_time": "2023-01-12T21:07:54.208547",
     "exception": false,
     "start_time": "2023-01-12T21:07:54.193544",
     "status": "completed"
    },
    "tags": []
   },
   "source": [
    "The absence of a missing value only means that there is no None or Nan in the dataset, and does not exclude the possibility that other values may be used to represent missing values such as 0,-9999, \"None\", \" \". From the describe table below, we noticed that 'humidity' and 'windspeed' have value 0"
   ]
  },
  {
   "cell_type": "code",
   "execution_count": 10,
   "id": "60ca9cff",
   "metadata": {
    "execution": {
     "iopub.execute_input": "2023-01-12T21:07:54.242379Z",
     "iopub.status.busy": "2023-01-12T21:07:54.240964Z",
     "iopub.status.idle": "2023-01-12T21:07:54.316439Z",
     "shell.execute_reply": "2023-01-12T21:07:54.315204Z"
    },
    "papermill": {
     "duration": 0.094922,
     "end_time": "2023-01-12T21:07:54.318733",
     "exception": false,
     "start_time": "2023-01-12T21:07:54.223811",
     "status": "completed"
    },
    "tags": []
   },
   "outputs": [
    {
     "data": {
      "text/html": [
       "<div>\n",
       "<style scoped>\n",
       "    .dataframe tbody tr th:only-of-type {\n",
       "        vertical-align: middle;\n",
       "    }\n",
       "\n",
       "    .dataframe tbody tr th {\n",
       "        vertical-align: top;\n",
       "    }\n",
       "\n",
       "    .dataframe thead th {\n",
       "        text-align: right;\n",
       "    }\n",
       "</style>\n",
       "<table border=\"1\" class=\"dataframe\">\n",
       "  <thead>\n",
       "    <tr style=\"text-align: right;\">\n",
       "      <th></th>\n",
       "      <th>season</th>\n",
       "      <th>holiday</th>\n",
       "      <th>workingday</th>\n",
       "      <th>weather</th>\n",
       "      <th>temp</th>\n",
       "      <th>atemp</th>\n",
       "      <th>humidity</th>\n",
       "      <th>windspeed</th>\n",
       "      <th>casual</th>\n",
       "      <th>registered</th>\n",
       "      <th>count</th>\n",
       "      <th>year</th>\n",
       "      <th>month</th>\n",
       "      <th>day</th>\n",
       "      <th>hour</th>\n",
       "      <th>week</th>\n",
       "      <th>weekday</th>\n",
       "    </tr>\n",
       "  </thead>\n",
       "  <tbody>\n",
       "    <tr>\n",
       "      <th>count</th>\n",
       "      <td>10886.000000</td>\n",
       "      <td>10886.000000</td>\n",
       "      <td>10886.000000</td>\n",
       "      <td>10886.000000</td>\n",
       "      <td>10886.00000</td>\n",
       "      <td>10886.000000</td>\n",
       "      <td>10886.000000</td>\n",
       "      <td>10886.000000</td>\n",
       "      <td>10886.000000</td>\n",
       "      <td>10886.000000</td>\n",
       "      <td>10886.000000</td>\n",
       "      <td>10886.000000</td>\n",
       "      <td>10886.000000</td>\n",
       "      <td>10886.000000</td>\n",
       "      <td>10886.000000</td>\n",
       "      <td>10886.000000</td>\n",
       "      <td>10886.000000</td>\n",
       "    </tr>\n",
       "    <tr>\n",
       "      <th>mean</th>\n",
       "      <td>2.506614</td>\n",
       "      <td>0.028569</td>\n",
       "      <td>0.680875</td>\n",
       "      <td>1.418427</td>\n",
       "      <td>20.23086</td>\n",
       "      <td>23.655084</td>\n",
       "      <td>61.886460</td>\n",
       "      <td>12.799395</td>\n",
       "      <td>36.021955</td>\n",
       "      <td>155.552177</td>\n",
       "      <td>191.574132</td>\n",
       "      <td>2011.501929</td>\n",
       "      <td>6.521495</td>\n",
       "      <td>9.992559</td>\n",
       "      <td>11.541613</td>\n",
       "      <td>25.917784</td>\n",
       "      <td>3.013963</td>\n",
       "    </tr>\n",
       "    <tr>\n",
       "      <th>std</th>\n",
       "      <td>1.116174</td>\n",
       "      <td>0.166599</td>\n",
       "      <td>0.466159</td>\n",
       "      <td>0.633839</td>\n",
       "      <td>7.79159</td>\n",
       "      <td>8.474601</td>\n",
       "      <td>19.245033</td>\n",
       "      <td>8.164537</td>\n",
       "      <td>49.960477</td>\n",
       "      <td>151.039033</td>\n",
       "      <td>181.144454</td>\n",
       "      <td>0.500019</td>\n",
       "      <td>3.444373</td>\n",
       "      <td>5.476608</td>\n",
       "      <td>6.915838</td>\n",
       "      <td>15.017269</td>\n",
       "      <td>2.004585</td>\n",
       "    </tr>\n",
       "    <tr>\n",
       "      <th>min</th>\n",
       "      <td>1.000000</td>\n",
       "      <td>0.000000</td>\n",
       "      <td>0.000000</td>\n",
       "      <td>1.000000</td>\n",
       "      <td>0.82000</td>\n",
       "      <td>0.760000</td>\n",
       "      <td>0.000000</td>\n",
       "      <td>0.000000</td>\n",
       "      <td>0.000000</td>\n",
       "      <td>0.000000</td>\n",
       "      <td>1.000000</td>\n",
       "      <td>2011.000000</td>\n",
       "      <td>1.000000</td>\n",
       "      <td>1.000000</td>\n",
       "      <td>0.000000</td>\n",
       "      <td>1.000000</td>\n",
       "      <td>0.000000</td>\n",
       "    </tr>\n",
       "    <tr>\n",
       "      <th>25%</th>\n",
       "      <td>2.000000</td>\n",
       "      <td>0.000000</td>\n",
       "      <td>0.000000</td>\n",
       "      <td>1.000000</td>\n",
       "      <td>13.94000</td>\n",
       "      <td>16.665000</td>\n",
       "      <td>47.000000</td>\n",
       "      <td>7.001500</td>\n",
       "      <td>4.000000</td>\n",
       "      <td>36.000000</td>\n",
       "      <td>42.000000</td>\n",
       "      <td>2011.000000</td>\n",
       "      <td>4.000000</td>\n",
       "      <td>5.000000</td>\n",
       "      <td>6.000000</td>\n",
       "      <td>14.000000</td>\n",
       "      <td>1.000000</td>\n",
       "    </tr>\n",
       "    <tr>\n",
       "      <th>50%</th>\n",
       "      <td>3.000000</td>\n",
       "      <td>0.000000</td>\n",
       "      <td>1.000000</td>\n",
       "      <td>1.000000</td>\n",
       "      <td>20.50000</td>\n",
       "      <td>24.240000</td>\n",
       "      <td>62.000000</td>\n",
       "      <td>12.998000</td>\n",
       "      <td>17.000000</td>\n",
       "      <td>118.000000</td>\n",
       "      <td>145.000000</td>\n",
       "      <td>2012.000000</td>\n",
       "      <td>7.000000</td>\n",
       "      <td>10.000000</td>\n",
       "      <td>12.000000</td>\n",
       "      <td>26.000000</td>\n",
       "      <td>3.000000</td>\n",
       "    </tr>\n",
       "    <tr>\n",
       "      <th>75%</th>\n",
       "      <td>4.000000</td>\n",
       "      <td>0.000000</td>\n",
       "      <td>1.000000</td>\n",
       "      <td>2.000000</td>\n",
       "      <td>26.24000</td>\n",
       "      <td>31.060000</td>\n",
       "      <td>77.000000</td>\n",
       "      <td>16.997900</td>\n",
       "      <td>49.000000</td>\n",
       "      <td>222.000000</td>\n",
       "      <td>284.000000</td>\n",
       "      <td>2012.000000</td>\n",
       "      <td>10.000000</td>\n",
       "      <td>15.000000</td>\n",
       "      <td>18.000000</td>\n",
       "      <td>40.000000</td>\n",
       "      <td>5.000000</td>\n",
       "    </tr>\n",
       "    <tr>\n",
       "      <th>max</th>\n",
       "      <td>4.000000</td>\n",
       "      <td>1.000000</td>\n",
       "      <td>1.000000</td>\n",
       "      <td>4.000000</td>\n",
       "      <td>41.00000</td>\n",
       "      <td>45.455000</td>\n",
       "      <td>100.000000</td>\n",
       "      <td>56.996900</td>\n",
       "      <td>367.000000</td>\n",
       "      <td>886.000000</td>\n",
       "      <td>977.000000</td>\n",
       "      <td>2012.000000</td>\n",
       "      <td>12.000000</td>\n",
       "      <td>19.000000</td>\n",
       "      <td>23.000000</td>\n",
       "      <td>52.000000</td>\n",
       "      <td>6.000000</td>\n",
       "    </tr>\n",
       "  </tbody>\n",
       "</table>\n",
       "</div>"
      ],
      "text/plain": [
       "             season       holiday    workingday       weather         temp  \\\n",
       "count  10886.000000  10886.000000  10886.000000  10886.000000  10886.00000   \n",
       "mean       2.506614      0.028569      0.680875      1.418427     20.23086   \n",
       "std        1.116174      0.166599      0.466159      0.633839      7.79159   \n",
       "min        1.000000      0.000000      0.000000      1.000000      0.82000   \n",
       "25%        2.000000      0.000000      0.000000      1.000000     13.94000   \n",
       "50%        3.000000      0.000000      1.000000      1.000000     20.50000   \n",
       "75%        4.000000      0.000000      1.000000      2.000000     26.24000   \n",
       "max        4.000000      1.000000      1.000000      4.000000     41.00000   \n",
       "\n",
       "              atemp      humidity     windspeed        casual    registered  \\\n",
       "count  10886.000000  10886.000000  10886.000000  10886.000000  10886.000000   \n",
       "mean      23.655084     61.886460     12.799395     36.021955    155.552177   \n",
       "std        8.474601     19.245033      8.164537     49.960477    151.039033   \n",
       "min        0.760000      0.000000      0.000000      0.000000      0.000000   \n",
       "25%       16.665000     47.000000      7.001500      4.000000     36.000000   \n",
       "50%       24.240000     62.000000     12.998000     17.000000    118.000000   \n",
       "75%       31.060000     77.000000     16.997900     49.000000    222.000000   \n",
       "max       45.455000    100.000000     56.996900    367.000000    886.000000   \n",
       "\n",
       "              count          year         month           day          hour  \\\n",
       "count  10886.000000  10886.000000  10886.000000  10886.000000  10886.000000   \n",
       "mean     191.574132   2011.501929      6.521495      9.992559     11.541613   \n",
       "std      181.144454      0.500019      3.444373      5.476608      6.915838   \n",
       "min        1.000000   2011.000000      1.000000      1.000000      0.000000   \n",
       "25%       42.000000   2011.000000      4.000000      5.000000      6.000000   \n",
       "50%      145.000000   2012.000000      7.000000     10.000000     12.000000   \n",
       "75%      284.000000   2012.000000     10.000000     15.000000     18.000000   \n",
       "max      977.000000   2012.000000     12.000000     19.000000     23.000000   \n",
       "\n",
       "               week       weekday  \n",
       "count  10886.000000  10886.000000  \n",
       "mean      25.917784      3.013963  \n",
       "std       15.017269      2.004585  \n",
       "min        1.000000      0.000000  \n",
       "25%       14.000000      1.000000  \n",
       "50%       26.000000      3.000000  \n",
       "75%       40.000000      5.000000  \n",
       "max       52.000000      6.000000  "
      ]
     },
     "execution_count": 10,
     "metadata": {},
     "output_type": "execute_result"
    }
   ],
   "source": [
    "train.describe()"
   ]
  },
  {
   "cell_type": "code",
   "execution_count": 11,
   "id": "67782d34",
   "metadata": {
    "execution": {
     "iopub.execute_input": "2023-01-12T21:07:54.351953Z",
     "iopub.status.busy": "2023-01-12T21:07:54.351550Z",
     "iopub.status.idle": "2023-01-12T21:07:54.361812Z",
     "shell.execute_reply": "2023-01-12T21:07:54.359983Z"
    },
    "papermill": {
     "duration": 0.029615,
     "end_time": "2023-01-12T21:07:54.364250",
     "exception": false,
     "start_time": "2023-01-12T21:07:54.334635",
     "status": "completed"
    },
    "tags": []
   },
   "outputs": [
    {
     "name": "stdout",
     "output_type": "stream",
     "text": [
      "season: [1 2 3 4]\n",
      "holiday: [0 1]\n",
      "weather: [1 2 3 4]\n"
     ]
    }
   ],
   "source": [
    "for feature in train[category_cols]:\n",
    "        print(f'{feature}: {train[feature].unique()}')"
   ]
  },
  {
   "cell_type": "markdown",
   "id": "4a558a2c",
   "metadata": {
    "papermill": {
     "duration": 0.015397,
     "end_time": "2023-01-12T21:07:54.395904",
     "exception": false,
     "start_time": "2023-01-12T21:07:54.380507",
     "status": "completed"
    },
    "tags": []
   },
   "source": [
    "Season, Holiday and weather don't have missing values"
   ]
  },
  {
   "cell_type": "code",
   "execution_count": 12,
   "id": "d2fb3fa9",
   "metadata": {
    "execution": {
     "iopub.execute_input": "2023-01-12T21:07:54.430154Z",
     "iopub.status.busy": "2023-01-12T21:07:54.429448Z",
     "iopub.status.idle": "2023-01-12T21:07:54.441705Z",
     "shell.execute_reply": "2023-01-12T21:07:54.440495Z"
    },
    "papermill": {
     "duration": 0.032254,
     "end_time": "2023-01-12T21:07:54.444122",
     "exception": false,
     "start_time": "2023-01-12T21:07:54.411868",
     "status": "completed"
    },
    "tags": []
   },
   "outputs": [
    {
     "name": "stdout",
     "output_type": "stream",
     "text": [
      "-1\n",
      "-1\n",
      "-1\n",
      "-1\n"
     ]
    }
   ],
   "source": [
    "# check if space \" \" is used to represent missing value\n",
    "def find_index(data_col, val):\n",
    "    \"\"\"\n",
    "    Query the index of the first occurrence of a value in a column, or -1 if none\n",
    "    \"\"\"\n",
    "    val_list = [val]\n",
    "    if data_col.isin(val_list).sum() == 0:\n",
    "        index = -1\n",
    "    else:\n",
    "        index = data_col.isin(val_list).idxmax()\n",
    "    return index\n",
    "\n",
    "for col in numeric_cols:\n",
    "    print(find_index(train[col], \" \"))\n",
    "    \n",
    "# None"
   ]
  },
  {
   "cell_type": "code",
   "execution_count": 13,
   "id": "5812bce1",
   "metadata": {
    "execution": {
     "iopub.execute_input": "2023-01-12T21:07:54.478522Z",
     "iopub.status.busy": "2023-01-12T21:07:54.478114Z",
     "iopub.status.idle": "2023-01-12T21:07:54.499239Z",
     "shell.execute_reply": "2023-01-12T21:07:54.497924Z"
    },
    "papermill": {
     "duration": 0.041889,
     "end_time": "2023-01-12T21:07:54.501818",
     "exception": false,
     "start_time": "2023-01-12T21:07:54.459929",
     "status": "completed"
    },
    "tags": []
   },
   "outputs": [
    {
     "data": {
      "text/html": [
       "<div>\n",
       "<style scoped>\n",
       "    .dataframe tbody tr th:only-of-type {\n",
       "        vertical-align: middle;\n",
       "    }\n",
       "\n",
       "    .dataframe tbody tr th {\n",
       "        vertical-align: top;\n",
       "    }\n",
       "\n",
       "    .dataframe thead th {\n",
       "        text-align: right;\n",
       "    }\n",
       "</style>\n",
       "<table border=\"1\" class=\"dataframe\">\n",
       "  <thead>\n",
       "    <tr style=\"text-align: right;\">\n",
       "      <th></th>\n",
       "      <th>cols</th>\n",
       "      <th>is_0</th>\n",
       "    </tr>\n",
       "  </thead>\n",
       "  <tbody>\n",
       "    <tr>\n",
       "      <th>0</th>\n",
       "      <td>temp</td>\n",
       "      <td>-1</td>\n",
       "    </tr>\n",
       "    <tr>\n",
       "      <th>1</th>\n",
       "      <td>atemp</td>\n",
       "      <td>-1</td>\n",
       "    </tr>\n",
       "    <tr>\n",
       "      <th>2</th>\n",
       "      <td>humidity</td>\n",
       "      <td>1091</td>\n",
       "    </tr>\n",
       "    <tr>\n",
       "      <th>3</th>\n",
       "      <td>windspeed</td>\n",
       "      <td>0</td>\n",
       "    </tr>\n",
       "  </tbody>\n",
       "</table>\n",
       "</div>"
      ],
      "text/plain": [
       "        cols  is_0\n",
       "0       temp    -1\n",
       "1      atemp    -1\n",
       "2   humidity  1091\n",
       "3  windspeed     0"
      ]
     },
     "execution_count": 13,
     "metadata": {},
     "output_type": "execute_result"
    }
   ],
   "source": [
    "# check if space \" \" is used to represent missing value\n",
    "def find_index(data_col, val):\n",
    "    \"\"\"\n",
    "    Query the index of the first occurrence of a value in a column, or -1 if none\n",
    "    \"\"\"\n",
    "    val_list = [val]\n",
    "    if data_col.isin(val_list).sum() == 0:\n",
    "        index = -1\n",
    "    else:\n",
    "        index = data_col.isin(val_list).idxmax()\n",
    "    return index\n",
    "\n",
    "is_0 = []\n",
    "for col in numeric_cols:\n",
    "    is_0.append(find_index(train[col], 0))\n",
    "\n",
    "numeric_cols = ['temp', 'atemp','humidity', 'windspeed']\n",
    "missing_check_0 = pd.DataFrame({'cols': numeric_cols, 'is_0': is_0})\n",
    "missing_check_0\n"
   ]
  },
  {
   "cell_type": "code",
   "execution_count": 14,
   "id": "79a0d79b",
   "metadata": {
    "execution": {
     "iopub.execute_input": "2023-01-12T21:07:54.537285Z",
     "iopub.status.busy": "2023-01-12T21:07:54.536570Z",
     "iopub.status.idle": "2023-01-12T21:07:54.544530Z",
     "shell.execute_reply": "2023-01-12T21:07:54.542796Z"
    },
    "papermill": {
     "duration": 0.028694,
     "end_time": "2023-01-12T21:07:54.547209",
     "exception": false,
     "start_time": "2023-01-12T21:07:54.518515",
     "status": "completed"
    },
    "tags": []
   },
   "outputs": [
    {
     "name": "stdout",
     "output_type": "stream",
     "text": [
      "[ 0.      6.0032 16.9979 19.0012 19.9995 12.998  15.0013  8.9981 11.0014\n",
      " 22.0028 30.0026 23.9994 27.9993 26.0027  7.0015 32.9975 36.9974 31.0009\n",
      " 35.0008 39.0007 43.9989 40.9973 51.9987 46.0022 50.0021 43.0006 56.9969\n",
      " 47.9988]\n",
      "[ 81  80  75  86  76  77  72  82  88  87  94 100  71  66  57  46  42  39\n",
      "  44  47  50  43  40  35  30  32  64  69  55  59  63  68  74  51  56  52\n",
      "  49  48  37  33  28  38  36  93  29  53  34  54  41  45  92  62  58  61\n",
      "  60  65  70  27  25  26  31  73  21  24  23  22  19  15  67  10   8  12\n",
      "  14  13  17  16  18  20  85   0  83  84  78  79  89  97  90  96  91]\n"
     ]
    }
   ],
   "source": [
    "print(train['windspeed'].unique())\n",
    "print(train['humidity'].unique())"
   ]
  },
  {
   "cell_type": "code",
   "execution_count": 15,
   "id": "b79a7bf1",
   "metadata": {
    "execution": {
     "iopub.execute_input": "2023-01-12T21:07:54.581421Z",
     "iopub.status.busy": "2023-01-12T21:07:54.581013Z",
     "iopub.status.idle": "2023-01-12T21:07:54.594231Z",
     "shell.execute_reply": "2023-01-12T21:07:54.592467Z"
    },
    "papermill": {
     "duration": 0.0343,
     "end_time": "2023-01-12T21:07:54.597681",
     "exception": false,
     "start_time": "2023-01-12T21:07:54.563381",
     "status": "completed"
    },
    "tags": []
   },
   "outputs": [
    {
     "name": "stdout",
     "output_type": "stream",
     "text": [
      "There are 1313 missing values in windspeed column so missing percentage is 0.1206\n",
      "There are 22 missing values in humidity column so missing percentage is 0.002\n"
     ]
    }
   ],
   "source": [
    "def zero_missing_percent(data, miss_col):\n",
    "    miss_num = train[train[miss_col]==0].shape[0]\n",
    "    miss_pct = round(miss_num/train.shape[0],4)\n",
    "    print(f\"There are {miss_num} missing values in {miss_col} column so missing percentage is {miss_pct}\")\n",
    "\n",
    "zero_missing_percent(train, 'windspeed')\n",
    "zero_missing_percent(train, 'humidity')"
   ]
  },
  {
   "cell_type": "code",
   "execution_count": 16,
   "id": "a524967d",
   "metadata": {
    "execution": {
     "iopub.execute_input": "2023-01-12T21:07:54.634417Z",
     "iopub.status.busy": "2023-01-12T21:07:54.633927Z",
     "iopub.status.idle": "2023-01-12T21:08:10.373861Z",
     "shell.execute_reply": "2023-01-12T21:08:10.372375Z"
    },
    "papermill": {
     "duration": 15.762263,
     "end_time": "2023-01-12T21:08:10.376864",
     "exception": false,
     "start_time": "2023-01-12T21:07:54.614601",
     "status": "completed"
    },
    "tags": []
   },
   "outputs": [],
   "source": [
    "#风速有很多缺失值，尝试使用随机森林基于气温、季节插值\n",
    "from sklearn.ensemble import RandomForestClassifier\n",
    "def wind_0_fill(df):\n",
    "    wind_0 = df[df['windspeed']==0]\n",
    "    wind_not0 = df[df['windspeed']!=0]\n",
    "    y_label = wind_not0['windspeed']\n",
    "    #猜测风速和天气以及时间都有关\n",
    "    rfc = RandomForestClassifier(n_estimators=1000,max_depth=10,random_state=0)\n",
    "    windcolunms = ['season', 'weather', 'temp', 'atemp', 'humidity', 'hour', 'month']\n",
    "    rfc.fit(wind_not0[windcolunms], y_label.astype('int'))\n",
    "    pred_y = rfc.predict(wind_0[windcolunms])\n",
    "    #预测结果填充\n",
    "    wind_0['windspeed'] = pred_y\n",
    "    df_rfw = wind_not0.append(wind_0)\n",
    "    df_rfw.reset_index(inplace=True)\n",
    "    return df_rfw\n",
    "train = wind_0_fill(train)\n",
    "test = wind_0_fill(test)"
   ]
  },
  {
   "cell_type": "markdown",
   "id": "19b743ba",
   "metadata": {
    "papermill": {
     "duration": 0.016263,
     "end_time": "2023-01-12T21:08:10.409896",
     "exception": false,
     "start_time": "2023-01-12T21:08:10.393633",
     "status": "completed"
    },
    "tags": []
   },
   "source": [
    "# outliers"
   ]
  },
  {
   "cell_type": "code",
   "execution_count": 17,
   "id": "fad1de90",
   "metadata": {
    "execution": {
     "iopub.execute_input": "2023-01-12T21:08:10.444569Z",
     "iopub.status.busy": "2023-01-12T21:08:10.444162Z",
     "iopub.status.idle": "2023-01-12T21:08:10.456635Z",
     "shell.execute_reply": "2023-01-12T21:08:10.455638Z"
    },
    "papermill": {
     "duration": 0.0333,
     "end_time": "2023-01-12T21:08:10.459237",
     "exception": false,
     "start_time": "2023-01-12T21:08:10.425937",
     "status": "completed"
    },
    "tags": []
   },
   "outputs": [
    {
     "data": {
      "text/plain": [
       "count    10886.000000\n",
       "mean       191.574132\n",
       "std        181.144454\n",
       "min          1.000000\n",
       "25%         42.000000\n",
       "50%        145.000000\n",
       "75%        284.000000\n",
       "max        977.000000\n",
       "Name: count, dtype: float64"
      ]
     },
     "execution_count": 17,
     "metadata": {},
     "output_type": "execute_result"
    }
   ],
   "source": [
    "train['count'].describe()"
   ]
  },
  {
   "cell_type": "code",
   "execution_count": 18,
   "id": "a3ec864a",
   "metadata": {
    "execution": {
     "iopub.execute_input": "2023-01-12T21:08:10.494660Z",
     "iopub.status.busy": "2023-01-12T21:08:10.494156Z",
     "iopub.status.idle": "2023-01-12T21:08:10.503039Z",
     "shell.execute_reply": "2023-01-12T21:08:10.501802Z"
    },
    "papermill": {
     "duration": 0.029611,
     "end_time": "2023-01-12T21:08:10.505350",
     "exception": false,
     "start_time": "2023-01-12T21:08:10.475739",
     "status": "completed"
    },
    "tags": []
   },
   "outputs": [],
   "source": [
    "def detect_outliers_3sigma(data):\n",
    "    # calculate the mean and standard deviation of the data\n",
    "    mean = np.mean(data)\n",
    "    std = np.std(data)\n",
    "    \n",
    "    # define the cutoff for what constitutes an outlier\n",
    "    cutoff = 3 * std\n",
    "    \n",
    "    # boxplot\n",
    "    sn.boxplot(data, orient=\"v\")\n",
    "    plt.show()\n",
    "    \n",
    "    # print lower, upper boundry\n",
    "    lower, upper = mean-3*std, mean+3*std\n",
    "    print(f\"The lower/upper boundary is {lower}/{upper}\")\n",
    "    \n",
    "    # identify outliers\n",
    "    outliers = [x for x in data if np.abs(x - mean) > cutoff]\n",
    "    print(f\"There are {len(outliers)} outliers based on 3-sigma rule\")\n",
    "    #return outliers\n"
   ]
  },
  {
   "cell_type": "code",
   "execution_count": 19,
   "id": "659611bd",
   "metadata": {
    "execution": {
     "iopub.execute_input": "2023-01-12T21:08:10.540757Z",
     "iopub.status.busy": "2023-01-12T21:08:10.540300Z",
     "iopub.status.idle": "2023-01-12T21:08:10.767307Z",
     "shell.execute_reply": "2023-01-12T21:08:10.765642Z"
    },
    "papermill": {
     "duration": 0.247965,
     "end_time": "2023-01-12T21:08:10.769888",
     "exception": false,
     "start_time": "2023-01-12T21:08:10.521923",
     "status": "completed"
    },
    "tags": []
   },
   "outputs": [
    {
     "name": "stderr",
     "output_type": "stream",
     "text": [
      "/opt/conda/lib/python3.7/site-packages/seaborn/_decorators.py:43: FutureWarning: Pass the following variable as a keyword arg: x. From version 0.12, the only valid positional argument will be `data`, and passing other arguments without an explicit keyword will result in an error or misinterpretation.\n",
      "  FutureWarning\n",
      "/opt/conda/lib/python3.7/site-packages/seaborn/_core.py:1326: UserWarning: Vertical orientation ignored with only `x` specified.\n",
      "  warnings.warn(single_var_warning.format(\"Vertical\", \"x\"))\n"
     ]
    },
    {
     "data": {
      "image/png": "[encoded data removed]",
      "text/plain": [
       "<Figure size 432x288 with 1 Axes>"
      ]
     },
     "metadata": {
      "needs_background": "light"
     },
     "output_type": "display_data"
    },
    {
     "name": "stdout",
     "output_type": "stream",
     "text": [
      "The lower/upper boundary is -351.8342688102495/734.9825326353459\n",
      "There are 147 outliers based on 3-sigma rule\n"
     ]
    }
   ],
   "source": [
    "detect_outliers_3sigma(train['count'])"
   ]
  },
  {
   "cell_type": "code",
   "execution_count": 20,
   "id": "ab49ea9c",
   "metadata": {
    "execution": {
     "iopub.execute_input": "2023-01-12T21:08:10.806039Z",
     "iopub.status.busy": "2023-01-12T21:08:10.804911Z",
     "iopub.status.idle": "2023-01-12T21:08:10.813084Z",
     "shell.execute_reply": "2023-01-12T21:08:10.811495Z"
    },
    "papermill": {
     "duration": 0.028619,
     "end_time": "2023-01-12T21:08:10.815431",
     "exception": false,
     "start_time": "2023-01-12T21:08:10.786812",
     "status": "completed"
    },
    "tags": []
   },
   "outputs": [],
   "source": [
    "def delete_outliers(data, df):\n",
    "    original_shape = df.shape\n",
    "    mean = np.mean(data)\n",
    "    std = np.std(data)\n",
    "    outliers=np.abs(data-mean) > (3*std)\n",
    "    outliers_num = len(train[outliers])\n",
    "    df.drop(index=data[outliers].index, inplace=True)\n",
    "    print(\"Have already deleted\",outliers_num,\"outliers\")\n",
    "    print (\"Shape Before Delete Ouliers: \",original_shape)\n",
    "    print (\"Shape After Delete Ouliers: \",df.shape)"
   ]
  },
  {
   "cell_type": "code",
   "execution_count": 21,
   "id": "d4f7c573",
   "metadata": {
    "execution": {
     "iopub.execute_input": "2023-01-12T21:08:10.851674Z",
     "iopub.status.busy": "2023-01-12T21:08:10.851234Z",
     "iopub.status.idle": "2023-01-12T21:08:10.863883Z",
     "shell.execute_reply": "2023-01-12T21:08:10.862629Z"
    },
    "papermill": {
     "duration": 0.034599,
     "end_time": "2023-01-12T21:08:10.867191",
     "exception": false,
     "start_time": "2023-01-12T21:08:10.832592",
     "status": "completed"
    },
    "tags": []
   },
   "outputs": [
    {
     "name": "stdout",
     "output_type": "stream",
     "text": [
      "Have already deleted 147 outliers\n",
      "Shape Before Delete Ouliers:  (10886, 19)\n",
      "Shape After Delete Ouliers:  (10739, 19)\n"
     ]
    }
   ],
   "source": [
    "delete_outliers(train['count'], train)"
   ]
  },
  {
   "cell_type": "markdown",
   "id": "115cf018",
   "metadata": {
    "papermill": {
     "duration": 0.017019,
     "end_time": "2023-01-12T21:08:10.901834",
     "exception": false,
     "start_time": "2023-01-12T21:08:10.884815",
     "status": "completed"
    },
    "tags": []
   },
   "source": [
    "# Correlation heatmap"
   ]
  },
  {
   "cell_type": "code",
   "execution_count": 22,
   "id": "496644c6",
   "metadata": {
    "execution": {
     "iopub.execute_input": "2023-01-12T21:08:10.937233Z",
     "iopub.status.busy": "2023-01-12T21:08:10.935942Z",
     "iopub.status.idle": "2023-01-12T21:08:11.364041Z",
     "shell.execute_reply": "2023-01-12T21:08:11.362830Z"
    },
    "papermill": {
     "duration": 0.448444,
     "end_time": "2023-01-12T21:08:11.366594",
     "exception": false,
     "start_time": "2023-01-12T21:08:10.918150",
     "status": "completed"
    },
    "tags": []
   },
   "outputs": [
    {
     "data": {
      "image/png": "[encoded data removed]",
      "text/plain": [
       "<Figure size 1440x720 with 2 Axes>"
      ]
     },
     "metadata": {
      "needs_background": "light"
     },
     "output_type": "display_data"
    }
   ],
   "source": [
    "def correlation_heatmap(corr):\n",
    "    mask = np.array(corr)\n",
    "    mask[np.tril_indices_from(mask)] = False\n",
    "    fig,ax= plt.subplots()\n",
    "    fig.set_size_inches(20,10)\n",
    "    sn.heatmap(corr, annot=True, mask=mask)\n",
    "\n",
    "corr = train[['season', 'holiday','temp', 'atemp','humidity', 'windspeed', 'count']].corr()\n",
    "correlation_heatmap(corr)"
   ]
  },
  {
   "cell_type": "markdown",
   "id": "e1bc03c7",
   "metadata": {
    "papermill": {
     "duration": 0.016536,
     "end_time": "2023-01-12T21:08:11.400836",
     "exception": false,
     "start_time": "2023-01-12T21:08:11.384300",
     "status": "completed"
    },
    "tags": []
   },
   "source": [
    "# Special Days"
   ]
  },
  {
   "cell_type": "code",
   "execution_count": 23,
   "id": "c24827c9",
   "metadata": {
    "execution": {
     "iopub.execute_input": "2023-01-12T21:08:11.437377Z",
     "iopub.status.busy": "2023-01-12T21:08:11.436613Z",
     "iopub.status.idle": "2023-01-12T21:08:11.442556Z",
     "shell.execute_reply": "2023-01-12T21:08:11.441661Z"
    },
    "papermill": {
     "duration": 0.027206,
     "end_time": "2023-01-12T21:08:11.444869",
     "exception": false,
     "start_time": "2023-01-12T21:08:11.417663",
     "status": "completed"
    },
    "tags": []
   },
   "outputs": [],
   "source": [
    "def get_day(day_start):\n",
    "   day_end = day_start + pd.offsets.DateOffset(hours=23)\n",
    "   return pd.date_range(day_start, day_end, freq=\"H\")\n"
   ]
  },
  {
   "cell_type": "code",
   "execution_count": 24,
   "id": "6d3d8309",
   "metadata": {
    "execution": {
     "iopub.execute_input": "2023-01-12T21:08:11.482159Z",
     "iopub.status.busy": "2023-01-12T21:08:11.481533Z",
     "iopub.status.idle": "2023-01-12T21:08:11.523511Z",
     "shell.execute_reply": "2023-01-12T21:08:11.522118Z"
    },
    "papermill": {
     "duration": 0.064381,
     "end_time": "2023-01-12T21:08:11.526574",
     "exception": false,
     "start_time": "2023-01-12T21:08:11.462193",
     "status": "completed"
    },
    "tags": []
   },
   "outputs": [
    {
     "name": "stderr",
     "output_type": "stream",
     "text": [
      "/opt/conda/lib/python3.7/site-packages/ipykernel_launcher.py:12: FutureWarning: The pandas.datetime class is deprecated and will be removed from pandas in a future version. Import from datetime module instead.\n",
      "  if sys.path[0] == \"\":\n",
      "/opt/conda/lib/python3.7/site-packages/ipykernel_launcher.py:13: FutureWarning: The pandas.datetime class is deprecated and will be removed from pandas in a future version. Import from datetime module instead.\n",
      "  del sys.path[0]\n",
      "/opt/conda/lib/python3.7/site-packages/ipykernel_launcher.py:15: FutureWarning: The pandas.datetime class is deprecated and will be removed from pandas in a future version. Import from datetime module instead.\n",
      "  from ipykernel import kernelapp as app\n",
      "/opt/conda/lib/python3.7/site-packages/ipykernel_launcher.py:16: FutureWarning: The pandas.datetime class is deprecated and will be removed from pandas in a future version. Import from datetime module instead.\n",
      "  \n",
      "/opt/conda/lib/python3.7/site-packages/ipykernel_launcher.py:18: FutureWarning: The pandas.datetime class is deprecated and will be removed from pandas in a future version. Import from datetime module instead.\n",
      "/opt/conda/lib/python3.7/site-packages/ipykernel_launcher.py:19: FutureWarning: The pandas.datetime class is deprecated and will be removed from pandas in a future version. Import from datetime module instead.\n",
      "/opt/conda/lib/python3.7/site-packages/ipykernel_launcher.py:21: FutureWarning: The pandas.datetime class is deprecated and will be removed from pandas in a future version. Import from datetime module instead.\n",
      "/opt/conda/lib/python3.7/site-packages/ipykernel_launcher.py:22: FutureWarning: The pandas.datetime class is deprecated and will be removed from pandas in a future version. Import from datetime module instead.\n",
      "/opt/conda/lib/python3.7/site-packages/ipykernel_launcher.py:25: FutureWarning: The pandas.datetime class is deprecated and will be removed from pandas in a future version. Import from datetime module instead.\n",
      "/opt/conda/lib/python3.7/site-packages/ipykernel_launcher.py:27: FutureWarning: The pandas.datetime class is deprecated and will be removed from pandas in a future version. Import from datetime module instead.\n",
      "/opt/conda/lib/python3.7/site-packages/ipykernel_launcher.py:31: FutureWarning: The pandas.datetime class is deprecated and will be removed from pandas in a future version. Import from datetime module instead.\n",
      "/opt/conda/lib/python3.7/site-packages/ipykernel_launcher.py:32: FutureWarning: The pandas.datetime class is deprecated and will be removed from pandas in a future version. Import from datetime module instead.\n",
      "/opt/conda/lib/python3.7/site-packages/ipykernel_launcher.py:33: FutureWarning: The pandas.datetime class is deprecated and will be removed from pandas in a future version. Import from datetime module instead.\n",
      "/opt/conda/lib/python3.7/site-packages/ipykernel_launcher.py:34: FutureWarning: The pandas.datetime class is deprecated and will be removed from pandas in a future version. Import from datetime module instead.\n",
      "/opt/conda/lib/python3.7/site-packages/ipykernel_launcher.py:36: FutureWarning: The pandas.datetime class is deprecated and will be removed from pandas in a future version. Import from datetime module instead.\n",
      "/opt/conda/lib/python3.7/site-packages/ipykernel_launcher.py:37: FutureWarning: The pandas.datetime class is deprecated and will be removed from pandas in a future version. Import from datetime module instead.\n",
      "/opt/conda/lib/python3.7/site-packages/ipykernel_launcher.py:38: FutureWarning: The pandas.datetime class is deprecated and will be removed from pandas in a future version. Import from datetime module instead.\n"
     ]
    }
   ],
   "source": [
    "# set datetime as index\n",
    "dt = pd.DatetimeIndex(train['datetime'])\n",
    "train.set_index(dt, inplace=True)\n",
    "dtt = pd.DatetimeIndex(test['datetime'])\n",
    "test.set_index(dtt, inplace=True)\n",
    "def get_day(day_start):\n",
    "    day_end = day_start + pd.offsets.DateOffset(hours=23)\n",
    "    return pd.date_range(day_start, day_end, freq=\"H\")\n",
    "\n",
    "\n",
    "# tax day\n",
    "train.loc[get_day(pd.datetime(2011, 4, 15)), \"workingday\"] = 1\n",
    "train.loc[get_day(pd.datetime(2012, 4, 16)), \"workingday\"] = 1\n",
    "# thanksgiving friday\n",
    "test.loc[get_day(pd.datetime(2011, 11, 25)), \"workingday\"] = 0\n",
    "test.loc[get_day(pd.datetime(2012, 11, 23)), \"workingday\"] = 0\n",
    "# tax day\n",
    "train.loc[get_day(pd.datetime(2011, 4, 15)), \"holiday\"] = 0\n",
    "train.loc[get_day(pd.datetime(2012, 4, 16)), \"holiday\"] = 0\n",
    "# thanksgiving friday\n",
    "test.loc[get_day(pd.datetime(2011, 11, 25)), \"holiday\"] = 1\n",
    "test.loc[get_day(pd.datetime(2012, 11, 23)), \"holiday\"] = 1\n",
    "\n",
    "# storms\n",
    "test.loc[get_day(pd.datetime(2012, 5, 21)), \"holiday\"] = 1\n",
    "# tornado\n",
    "train.loc[get_day(pd.datetime(2012, 6, 1)), \"holiday\"] = 1\n",
    "\n",
    "\n",
    "# Chrismas\n",
    "test.loc[get_day(pd.datetime(2011, 12, 24)), \"workingday\"] = 0\n",
    "test.loc[get_day(pd.datetime(2011, 12, 31)), \"workingday\"] = 0\n",
    "test.loc[get_day(pd.datetime(2012, 12, 26)), \"workingday\"] = 0\n",
    "test.loc[get_day(pd.datetime(2012, 12, 31)), \"workingday\"] = 0\n",
    "\n",
    "test.loc[get_day(pd.datetime(2011, 12, 24)), \"holiday\"] = 1\n",
    "test.loc[get_day(pd.datetime(2011, 12, 31)), \"holiday\"] = 1\n",
    "test.loc[get_day(pd.datetime(2012, 12, 31)), \"holiday\"] = 1\n"
   ]
  },
  {
   "cell_type": "markdown",
   "id": "8d3e03ac",
   "metadata": {
    "papermill": {
     "duration": 0.017316,
     "end_time": "2023-01-12T21:08:11.561588",
     "exception": false,
     "start_time": "2023-01-12T21:08:11.544272",
     "status": "completed"
    },
    "tags": []
   },
   "source": [
    "# Visualization"
   ]
  },
  {
   "cell_type": "code",
   "execution_count": 25,
   "id": "a70ed427",
   "metadata": {
    "execution": {
     "iopub.execute_input": "2023-01-12T21:08:11.601148Z",
     "iopub.status.busy": "2023-01-12T21:08:11.600733Z",
     "iopub.status.idle": "2023-01-12T21:08:13.909684Z",
     "shell.execute_reply": "2023-01-12T21:08:13.908240Z"
    },
    "papermill": {
     "duration": 2.330333,
     "end_time": "2023-01-12T21:08:13.912137",
     "exception": false,
     "start_time": "2023-01-12T21:08:11.581804",
     "status": "completed"
    },
    "tags": []
   },
   "outputs": [
    {
     "data": {
      "text/plain": [
       "[Text(0.5, 0, 'Hour Of The Day'),\n",
       " Text(0, 0.5, 'Casual Count'),\n",
       " Text(0.5, 1.0, 'Box Plot On Casual Count Across Hour Of The Day')]"
      ]
     },
     "execution_count": 25,
     "metadata": {},
     "output_type": "execute_result"
    },
    {
     "data": {
      "image/png": "[encoded data removed]",
      "text/plain": [
       "<Figure size 864x720 with 6 Axes>"
      ]
     },
     "metadata": {
      "needs_background": "light"
     },
     "output_type": "display_data"
    }
   ],
   "source": [
    "# ref: https://www.kaggle.com/code/viveksrinivasan/eda-ensemble-model-top-10-percentile#About-Dataset\n",
    "fig, axes = plt.subplots(nrows=2,ncols=3)\n",
    "fig.set_size_inches(12, 10)\n",
    "\n",
    "sn.boxplot(data=train,y=\"count\",x='weekday',orient=\"v\",ax=axes[0][0])\n",
    "sn.boxplot(data=train,y=\"count\",x=\"season\",orient=\"v\",ax=axes[0][1])\n",
    "sn.boxplot(data=train,y=\"count\",x=\"workingday\",orient=\"v\",ax=axes[0][2])\n",
    "sn.boxplot(data=train,y=\"count\",x=\"hour\",orient=\"v\",ax=axes[1][0])\n",
    "sn.boxplot(data=train,y=\"registered\",x=\"hour\",orient=\"v\",ax=axes[1][1])\n",
    "sn.boxplot(data=train,y=\"casual\",x=\"hour\",orient=\"v\",ax=axes[1][2])\n",
    "\n",
    "axes[0][0].set(xlabel='Day',ylabel='Count',title=\"Box Plot On Count Across Day\")\n",
    "axes[0][1].set(xlabel='Season', ylabel='Count',title=\"Box Plot On Count Across Season\")\n",
    "axes[0][2].set(xlabel='Working Day', ylabel='Count',title=\"Box Plot On Count Across Working Day\")\n",
    "axes[1][0].set(xlabel='Hour Of The Day', ylabel='Registered Count',title=\"Box Plot On Registered Count Across Hour Of The Day\")\n",
    "axes[1][0].set(xlabel='Hour Of The Day', ylabel='Casual Count',title=\"Box Plot On Casual Count Across Hour Of The Day\")"
   ]
  },
  {
   "cell_type": "code",
   "execution_count": 26,
   "id": "f321a6d1",
   "metadata": {
    "ExecuteTime": {
     "end_time": "2022-05-25T13:04:16.298855Z",
     "start_time": "2022-05-25T13:04:15.997959Z"
    },
    "execution": {
     "iopub.execute_input": "2023-01-12T21:08:13.952545Z",
     "iopub.status.busy": "2023-01-12T21:08:13.952047Z",
     "iopub.status.idle": "2023-01-12T21:08:15.121705Z",
     "shell.execute_reply": "2023-01-12T21:08:15.120481Z"
    },
    "papermill": {
     "duration": 1.192772,
     "end_time": "2023-01-12T21:08:15.124136",
     "exception": false,
     "start_time": "2023-01-12T21:08:13.931364",
     "status": "completed"
    },
    "tags": []
   },
   "outputs": [
    {
     "data": {
      "text/plain": [
       "Text(0.5, 0.98, 'weather count across different seasons')"
      ]
     },
     "execution_count": 26,
     "metadata": {},
     "output_type": "execute_result"
    },
    {
     "data": {
      "image/png": "[encoded data removed]",
      "text/plain": [
       "<Figure size 1440x360 with 4 Axes>"
      ]
     },
     "metadata": {
      "needs_background": "light"
     },
     "output_type": "display_data"
    }
   ],
   "source": [
    "# weather count across different seasons\n",
    "g = sn.catplot(x='weather',y='count',col='season', kind=\"bar\", palette=\"Spectral\", data=train)\n",
    "g.fig.subplots_adjust(top=0.7) # adjust the Figure\n",
    "g.fig.suptitle(\"weather count across different seasons\")\n"
   ]
  },
  {
   "cell_type": "code",
   "execution_count": 27,
   "id": "6f9764aa",
   "metadata": {
    "ExecuteTime": {
     "end_time": "2022-05-25T13:04:19.707024Z",
     "start_time": "2022-05-25T13:04:16.629017Z"
    },
    "execution": {
     "iopub.execute_input": "2023-01-12T21:08:15.164258Z",
     "iopub.status.busy": "2023-01-12T21:08:15.163826Z",
     "iopub.status.idle": "2023-01-12T21:08:23.350715Z",
     "shell.execute_reply": "2023-01-12T21:08:23.349547Z"
    },
    "papermill": {
     "duration": 8.210551,
     "end_time": "2023-01-12T21:08:23.353659",
     "exception": false,
     "start_time": "2023-01-12T21:08:15.143108",
     "status": "completed"
    },
    "tags": []
   },
   "outputs": [
    {
     "data": {
      "text/plain": [
       "Text(0, 0.5, 'Count')"
      ]
     },
     "execution_count": 27,
     "metadata": {},
     "output_type": "execute_result"
    },
    {
     "data": {
      "image/png": "[encoded data removed]",
      "text/plain": [
       "<Figure size 864x1440 with 3 Axes>"
      ]
     },
     "metadata": {
      "needs_background": "light"
     },
     "output_type": "display_data"
    }
   ],
   "source": [
    "fig,(ax1,ax2,ax3)= plt.subplots(nrows=3)\n",
    "fig.set_size_inches(12,20)\n",
    "sn.pointplot(x='hour',y='count',hue='season',join=True, data=train, palette=\"Spectral\", ax=ax1)\n",
    "sn.pointplot(x='hour',y='count',hue='weekday',join=True, data=train, palette=\"Spectral\", ax=ax2)\n",
    "sn.lineplot(x='hour', y='registered', data=train, color='red',label='Registered', marker='o', ax=ax3, ci=None)\n",
    "sn.lineplot(x='hour', y='casual', data=train, color='blue', label='Casual', marker='o', ax=ax3, ci=None)\n",
    "ax3.set_ylabel('Count')\n",
    "\n"
   ]
  },
  {
   "cell_type": "code",
   "execution_count": 28,
   "id": "46600eea",
   "metadata": {
    "ExecuteTime": {
     "end_time": "2022-05-25T13:04:38.574997Z",
     "start_time": "2022-05-25T13:04:38.097694Z"
    },
    "execution": {
     "iopub.execute_input": "2023-01-12T21:08:23.400795Z",
     "iopub.status.busy": "2023-01-12T21:08:23.400379Z",
     "iopub.status.idle": "2023-01-12T21:08:24.057225Z",
     "shell.execute_reply": "2023-01-12T21:08:24.056067Z"
    },
    "papermill": {
     "duration": 0.682784,
     "end_time": "2023-01-12T21:08:24.059667",
     "exception": false,
     "start_time": "2023-01-12T21:08:23.376883",
     "status": "completed"
    },
    "tags": []
   },
   "outputs": [
    {
     "data": {
      "text/plain": [
       "<AxesSubplot:ylabel='Density'>"
      ]
     },
     "execution_count": 28,
     "metadata": {},
     "output_type": "execute_result"
    },
    {
     "data": {
      "image/png": "[encoded data removed]",
      "text/plain": [
       "<Figure size 432x288 with 1 Axes>"
      ]
     },
     "metadata": {
      "needs_background": "light"
     },
     "output_type": "display_data"
    }
   ],
   "source": [
    "# Kernel Density Estimation plot \n",
    "train['count'].plot(kind='kde')"
   ]
  },
  {
   "cell_type": "code",
   "execution_count": 29,
   "id": "18ec1f1e",
   "metadata": {
    "ExecuteTime": {
     "end_time": "2022-05-25T13:04:38.953415Z",
     "start_time": "2022-05-25T13:04:38.578988Z"
    },
    "execution": {
     "iopub.execute_input": "2023-01-12T21:08:24.107714Z",
     "iopub.status.busy": "2023-01-12T21:08:24.107305Z",
     "iopub.status.idle": "2023-01-12T21:08:24.574204Z",
     "shell.execute_reply": "2023-01-12T21:08:24.572780Z"
    },
    "papermill": {
     "duration": 0.494134,
     "end_time": "2023-01-12T21:08:24.577369",
     "exception": false,
     "start_time": "2023-01-12T21:08:24.083235",
     "status": "completed"
    },
    "tags": []
   },
   "outputs": [
    {
     "data": {
      "text/plain": [
       "<AxesSubplot:ylabel='Density'>"
      ]
     },
     "execution_count": 29,
     "metadata": {},
     "output_type": "execute_result"
    },
    {
     "data": {
      "image/png": "[encoded data removed]",
      "text/plain": [
       "<Figure size 432x288 with 1 Axes>"
      ]
     },
     "metadata": {
      "needs_background": "light"
     },
     "output_type": "display_data"
    }
   ],
   "source": [
    "# log trnasformation for skewed count data\n",
    "import math\n",
    "train['count_log']=np.log1p(train['count'])\n",
    "train['count_log'].plot(kind='kde')"
   ]
  },
  {
   "cell_type": "markdown",
   "id": "d7bac07d",
   "metadata": {
    "papermill": {
     "duration": 0.022721,
     "end_time": "2023-01-12T21:08:24.624130",
     "exception": false,
     "start_time": "2023-01-12T21:08:24.601409",
     "status": "completed"
    },
    "tags": []
   },
   "source": [
    "# Model"
   ]
  },
  {
   "cell_type": "markdown",
   "id": "0819ab2f",
   "metadata": {
    "papermill": {
     "duration": 0.022706,
     "end_time": "2023-01-12T21:08:24.671381",
     "exception": false,
     "start_time": "2023-01-12T21:08:24.648675",
     "status": "completed"
    },
    "tags": []
   },
   "source": [
    "## Metrics"
   ]
  },
  {
   "cell_type": "code",
   "execution_count": 30,
   "id": "cd23b1e8",
   "metadata": {
    "execution": {
     "iopub.execute_input": "2023-01-12T21:08:24.720276Z",
     "iopub.status.busy": "2023-01-12T21:08:24.719100Z",
     "iopub.status.idle": "2023-01-12T21:08:24.725460Z",
     "shell.execute_reply": "2023-01-12T21:08:24.724377Z"
    },
    "papermill": {
     "duration": 0.034182,
     "end_time": "2023-01-12T21:08:24.728573",
     "exception": false,
     "start_time": "2023-01-12T21:08:24.694391",
     "status": "completed"
    },
    "tags": []
   },
   "outputs": [],
   "source": [
    "# metrics\n",
    "def rmsle(y_real, y_pre):    \n",
    "    log1 = np.log1p(y_real)\n",
    "    log2 = np.log1p(y_pre)    \n",
    "    calc = (log1 - log2) ** 2\n",
    "    return np.sqrt(np.mean(calc))"
   ]
  },
  {
   "cell_type": "markdown",
   "id": "662fbba1",
   "metadata": {
    "papermill": {
     "duration": 0.023875,
     "end_time": "2023-01-12T21:08:24.776555",
     "exception": false,
     "start_time": "2023-01-12T21:08:24.752680",
     "status": "completed"
    },
    "tags": []
   },
   "source": [
    "## Split Dataset"
   ]
  },
  {
   "cell_type": "code",
   "execution_count": 31,
   "id": "bd68a7c5",
   "metadata": {
    "execution": {
     "iopub.execute_input": "2023-01-12T21:08:24.828703Z",
     "iopub.status.busy": "2023-01-12T21:08:24.828235Z",
     "iopub.status.idle": "2023-01-12T21:08:24.835502Z",
     "shell.execute_reply": "2023-01-12T21:08:24.834377Z"
    },
    "papermill": {
     "duration": 0.036046,
     "end_time": "2023-01-12T21:08:24.837891",
     "exception": false,
     "start_time": "2023-01-12T21:08:24.801845",
     "status": "completed"
    },
    "tags": []
   },
   "outputs": [
    {
     "data": {
      "text/plain": [
       "Index(['index', 'datetime', 'season', 'holiday', 'workingday', 'weather',\n",
       "       'temp', 'atemp', 'humidity', 'windspeed', 'casual', 'registered',\n",
       "       'count', 'year', 'month', 'day', 'hour', 'week', 'weekday',\n",
       "       'count_log'],\n",
       "      dtype='object')"
      ]
     },
     "execution_count": 31,
     "metadata": {},
     "output_type": "execute_result"
    }
   ],
   "source": [
    "train.columns"
   ]
  },
  {
   "cell_type": "code",
   "execution_count": 32,
   "id": "dbfbf939",
   "metadata": {
    "execution": {
     "iopub.execute_input": "2023-01-12T21:08:24.889220Z",
     "iopub.status.busy": "2023-01-12T21:08:24.888704Z",
     "iopub.status.idle": "2023-01-12T21:08:24.896620Z",
     "shell.execute_reply": "2023-01-12T21:08:24.895504Z"
    },
    "papermill": {
     "duration": 0.037021,
     "end_time": "2023-01-12T21:08:24.898862",
     "exception": false,
     "start_time": "2023-01-12T21:08:24.861841",
     "status": "completed"
    },
    "tags": []
   },
   "outputs": [
    {
     "data": {
      "text/plain": [
       "Index(['index', 'datetime', 'season', 'holiday', 'workingday', 'weather',\n",
       "       'temp', 'atemp', 'humidity', 'windspeed', 'year', 'month', 'day',\n",
       "       'hour', 'week', 'weekday'],\n",
       "      dtype='object')"
      ]
     },
     "execution_count": 32,
     "metadata": {},
     "output_type": "execute_result"
    }
   ],
   "source": [
    "test.columns"
   ]
  },
  {
   "cell_type": "code",
   "execution_count": 33,
   "id": "c3b57052",
   "metadata": {
    "execution": {
     "iopub.execute_input": "2023-01-12T21:08:24.949675Z",
     "iopub.status.busy": "2023-01-12T21:08:24.949173Z",
     "iopub.status.idle": "2023-01-12T21:08:24.971596Z",
     "shell.execute_reply": "2023-01-12T21:08:24.970060Z"
    },
    "papermill": {
     "duration": 0.050628,
     "end_time": "2023-01-12T21:08:24.974151",
     "exception": false,
     "start_time": "2023-01-12T21:08:24.923523",
     "status": "completed"
    },
    "tags": []
   },
   "outputs": [],
   "source": [
    "drop_columns = ['count', 'count_log', 'casual', 'registered', 'index', 'datetime']\n",
    "X_train = train.drop(drop_columns, axis = 1).values\n",
    "X_test = test.drop(['index', 'datetime'], axis = 1).values\n",
    "\n",
    "yLog = train['count_log'].values\n",
    "x_date = test['datetime'].values"
   ]
  },
  {
   "cell_type": "code",
   "execution_count": 34,
   "id": "8528cebe",
   "metadata": {
    "execution": {
     "iopub.execute_input": "2023-01-12T21:08:25.023177Z",
     "iopub.status.busy": "2023-01-12T21:08:25.022660Z",
     "iopub.status.idle": "2023-01-12T21:08:25.030467Z",
     "shell.execute_reply": "2023-01-12T21:08:25.029269Z"
    },
    "papermill": {
     "duration": 0.03594,
     "end_time": "2023-01-12T21:08:25.033113",
     "exception": false,
     "start_time": "2023-01-12T21:08:24.997173",
     "status": "completed"
    },
    "tags": []
   },
   "outputs": [
    {
     "data": {
      "text/plain": [
       "(10739, 14)"
      ]
     },
     "execution_count": 34,
     "metadata": {},
     "output_type": "execute_result"
    }
   ],
   "source": [
    "X_train.shape"
   ]
  },
  {
   "cell_type": "code",
   "execution_count": 35,
   "id": "e0ab874b",
   "metadata": {
    "execution": {
     "iopub.execute_input": "2023-01-12T21:08:25.085761Z",
     "iopub.status.busy": "2023-01-12T21:08:25.085288Z",
     "iopub.status.idle": "2023-01-12T21:08:25.092259Z",
     "shell.execute_reply": "2023-01-12T21:08:25.091192Z"
    },
    "papermill": {
     "duration": 0.036784,
     "end_time": "2023-01-12T21:08:25.094696",
     "exception": false,
     "start_time": "2023-01-12T21:08:25.057912",
     "status": "completed"
    },
    "tags": []
   },
   "outputs": [
    {
     "data": {
      "text/plain": [
       "(6493, 14)"
      ]
     },
     "execution_count": 35,
     "metadata": {},
     "output_type": "execute_result"
    }
   ],
   "source": [
    "X_test.shape"
   ]
  },
  {
   "cell_type": "code",
   "execution_count": 36,
   "id": "92750647",
   "metadata": {
    "execution": {
     "iopub.execute_input": "2023-01-12T21:08:25.144521Z",
     "iopub.status.busy": "2023-01-12T21:08:25.143987Z",
     "iopub.status.idle": "2023-01-12T21:08:25.150714Z",
     "shell.execute_reply": "2023-01-12T21:08:25.149536Z"
    },
    "papermill": {
     "duration": 0.034706,
     "end_time": "2023-01-12T21:08:25.153523",
     "exception": false,
     "start_time": "2023-01-12T21:08:25.118817",
     "status": "completed"
    },
    "tags": []
   },
   "outputs": [],
   "source": [
    "rf_columns = [\n",
    "    'weather', 'temp', 'windspeed',\n",
    "    'workingday', 'season', 'holiday',\n",
    "    'hour', 'weekday', 'week',\n",
    "]\n",
    "gb_columns =[\n",
    "    'weather', 'temp', 'humidity', 'windspeed',\n",
    "    'workingday', 'season', 'holiday',\n",
    "    'hour', 'weekday', 'year', \n",
    "]"
   ]
  },
  {
   "cell_type": "code",
   "execution_count": 37,
   "id": "889e8d10",
   "metadata": {
    "execution": {
     "iopub.execute_input": "2023-01-12T21:08:25.204913Z",
     "iopub.status.busy": "2023-01-12T21:08:25.204376Z",
     "iopub.status.idle": "2023-01-12T21:08:25.277260Z",
     "shell.execute_reply": "2023-01-12T21:08:25.275902Z"
    },
    "papermill": {
     "duration": 0.101518,
     "end_time": "2023-01-12T21:08:25.280026",
     "exception": false,
     "start_time": "2023-01-12T21:08:25.178508",
     "status": "completed"
    },
    "tags": []
   },
   "outputs": [],
   "source": [
    "rf_x_train=train[rf_columns].values\n",
    "rf_x_test=test[rf_columns].values\n",
    "\n",
    "gb_x_train=train[gb_columns].values\n",
    "gb_x_test=test[gb_columns].values\n",
    "\n",
    "y_casual=train['casual'].apply(lambda x: np.log1p(x)).values\n",
    "y_registered=train['registered'].apply(lambda x: np.log1p(x)).values\n",
    "y=train['count'].apply(lambda x: np.log1p(x)).values\n",
    "\n",
    "X_date=test['datetime'].values"
   ]
  },
  {
   "cell_type": "code",
   "execution_count": 38,
   "id": "06a30920",
   "metadata": {
    "execution": {
     "iopub.execute_input": "2023-01-12T21:08:25.329548Z",
     "iopub.status.busy": "2023-01-12T21:08:25.329060Z",
     "iopub.status.idle": "2023-01-12T21:08:25.346397Z",
     "shell.execute_reply": "2023-01-12T21:08:25.344951Z"
    },
    "papermill": {
     "duration": 0.045851,
     "end_time": "2023-01-12T21:08:25.349062",
     "exception": false,
     "start_time": "2023-01-12T21:08:25.303211",
     "status": "completed"
    },
    "tags": []
   },
   "outputs": [],
   "source": [
    "# Split training dataset\n",
    "from sklearn.model_selection import train_test_split\n",
    "drop_columns = ['count', 'count_log', 'casual', 'registered', 'index', 'datetime']\n",
    "X_train = train.drop(drop_columns, axis = 1).values\n",
    "xd_train,xd_test,yd_train,yd_test = train_test_split(X_train,y,random_state=0)"
   ]
  },
  {
   "cell_type": "markdown",
   "id": "f26ee49f",
   "metadata": {
    "papermill": {
     "duration": 0.024359,
     "end_time": "2023-01-12T21:08:25.396496",
     "exception": false,
     "start_time": "2023-01-12T21:08:25.372137",
     "status": "completed"
    },
    "tags": []
   },
   "source": [
    "## XGBoost"
   ]
  },
  {
   "cell_type": "code",
   "execution_count": 39,
   "id": "58e13400",
   "metadata": {
    "execution": {
     "iopub.execute_input": "2023-01-12T21:08:25.446684Z",
     "iopub.status.busy": "2023-01-12T21:08:25.446140Z",
     "iopub.status.idle": "2023-01-12T21:08:25.454048Z",
     "shell.execute_reply": "2023-01-12T21:08:25.453225Z"
    },
    "papermill": {
     "duration": 0.036154,
     "end_time": "2023-01-12T21:08:25.456264",
     "exception": false,
     "start_time": "2023-01-12T21:08:25.420110",
     "status": "completed"
    },
    "tags": []
   },
   "outputs": [],
   "source": [
    "xgb_model = xgb.XGBRegressor()\n",
    "def XGB_model():\n",
    "    xgb_parameters = {'random_state': [42], \n",
    "                  'n_estimators': [300, 370, 400], \n",
    "                  'max_depth': [4, 5], \n",
    "                  'learning_rate': [0.1]}\n",
    "    rmsle_scorer = metrics.make_scorer(rmsle, greater_is_better = False)\n",
    "\n",
    "    gs = GridSearchCV(estimator = xgb_model, param_grid = xgb_parameters, scoring = rmsle_scorer, cv = 5)\n",
    "    gs.fit(xd_train, yd_train)\n",
    "    print('Best params for XGBoost model are: ', gs.best_params_)\n",
    "    #\n",
    "    test_pred = gs.predict(xd_test)\n",
    "    # calculate RMSLE\n",
    "    score = rmsle(yd_test,test_pred)\n",
    "    return score"
   ]
  },
  {
   "cell_type": "markdown",
   "id": "8490bac1",
   "metadata": {
    "papermill": {
     "duration": 0.024085,
     "end_time": "2023-01-12T21:08:25.503747",
     "exception": false,
     "start_time": "2023-01-12T21:08:25.479662",
     "status": "completed"
    },
    "tags": []
   },
   "source": [
    "## Random Forest"
   ]
  },
  {
   "cell_type": "code",
   "execution_count": 40,
   "id": "0320e442",
   "metadata": {
    "execution": {
     "iopub.execute_input": "2023-01-12T21:08:25.555639Z",
     "iopub.status.busy": "2023-01-12T21:08:25.555045Z",
     "iopub.status.idle": "2023-01-12T21:08:25.562628Z",
     "shell.execute_reply": "2023-01-12T21:08:25.561314Z"
    },
    "papermill": {
     "duration": 0.036425,
     "end_time": "2023-01-12T21:08:25.565303",
     "exception": false,
     "start_time": "2023-01-12T21:08:25.528878",
     "status": "completed"
    },
    "tags": []
   },
   "outputs": [],
   "source": [
    "from sklearn.ensemble import RandomForestRegressor\n",
    "def RandomForest_model():\n",
    "    params = {'n_estimators': 1000, \n",
    "              'max_depth': 15, \n",
    "              'random_state': 0, \n",
    "              'min_samples_split' : 2, \n",
    "              'n_jobs': -1}\n",
    "\n",
    "    rfr = RandomForestRegressor(**params)\n",
    "    rfr.fit(xd_train, yd_train)\n",
    "    test_pred = rfr.predict(xd_test)\n",
    "    # calculate RMSLE\n",
    "    score = rmsle(yd_test,test_pred)\n",
    "    return score"
   ]
  },
  {
   "cell_type": "markdown",
   "id": "99c2ebd5",
   "metadata": {
    "papermill": {
     "duration": 0.023154,
     "end_time": "2023-01-12T21:08:25.612196",
     "exception": false,
     "start_time": "2023-01-12T21:08:25.589042",
     "status": "completed"
    },
    "tags": []
   },
   "source": [
    "## GradientBoostTree"
   ]
  },
  {
   "cell_type": "code",
   "execution_count": 41,
   "id": "051e3917",
   "metadata": {
    "execution": {
     "iopub.execute_input": "2023-01-12T21:08:25.664294Z",
     "iopub.status.busy": "2023-01-12T21:08:25.663084Z",
     "iopub.status.idle": "2023-01-12T21:08:25.670158Z",
     "shell.execute_reply": "2023-01-12T21:08:25.669067Z"
    },
    "papermill": {
     "duration": 0.034667,
     "end_time": "2023-01-12T21:08:25.672490",
     "exception": false,
     "start_time": "2023-01-12T21:08:25.637823",
     "status": "completed"
    },
    "tags": []
   },
   "outputs": [],
   "source": [
    "from sklearn.ensemble import GradientBoostingRegressor\n",
    "def GradientBoosting_model():\n",
    "    gbr = GradientBoostingRegressor(n_estimators = 1000, \n",
    "                                    max_depth = 5, \n",
    "                                    random_state = 0)\n",
    "    gbr.fit(xd_train,yd_train)\n",
    "    test_pred = gbr.predict(xd_test)\n",
    "    score = rmsle(yd_test,test_pred)\n",
    "    return score"
   ]
  },
  {
   "cell_type": "code",
   "execution_count": 42,
   "id": "721be421",
   "metadata": {
    "execution": {
     "iopub.execute_input": "2023-01-12T21:08:25.722643Z",
     "iopub.status.busy": "2023-01-12T21:08:25.722162Z",
     "iopub.status.idle": "2023-01-12T21:10:04.161124Z",
     "shell.execute_reply": "2023-01-12T21:10:04.159497Z"
    },
    "papermill": {
     "duration": 98.467252,
     "end_time": "2023-01-12T21:10:04.164083",
     "exception": false,
     "start_time": "2023-01-12T21:08:25.696831",
     "status": "completed"
    },
    "tags": []
   },
   "outputs": [
    {
     "name": "stdout",
     "output_type": "stream",
     "text": [
      "RMSLE Score for different models\n",
      "Best params for XGBoost model are:  {'learning_rate': 0.1, 'max_depth': 5, 'n_estimators': 400, 'random_state': 42}\n",
      "XGBoost:       0.07957196959997952\n",
      "RandomForest:  0.08143885821515123\n",
      "GradientBoost:  0.08106742308844261\n"
     ]
    }
   ],
   "source": [
    "print(\"RMSLE Score for different models\")\n",
    "print(\"XGBoost:      \",XGB_model())\n",
    "print(\"RandomForest: \",RandomForest_model())\n",
    "print(\"GradientBoost: \",GradientBoosting_model())"
   ]
  },
  {
   "cell_type": "markdown",
   "id": "d6b8a9aa",
   "metadata": {
    "papermill": {
     "duration": 0.024078,
     "end_time": "2023-01-12T21:10:04.212971",
     "exception": false,
     "start_time": "2023-01-12T21:10:04.188893",
     "status": "completed"
    },
    "tags": []
   },
   "source": [
    "## Model Prediction"
   ]
  },
  {
   "cell_type": "code",
   "execution_count": 43,
   "id": "6557f0ed",
   "metadata": {
    "execution": {
     "iopub.execute_input": "2023-01-12T21:10:04.264914Z",
     "iopub.status.busy": "2023-01-12T21:10:04.264509Z",
     "iopub.status.idle": "2023-01-12T21:10:08.910555Z",
     "shell.execute_reply": "2023-01-12T21:10:08.908654Z"
    },
    "papermill": {
     "duration": 4.67659,
     "end_time": "2023-01-12T21:10:08.914556",
     "exception": false,
     "start_time": "2023-01-12T21:10:04.237966",
     "status": "completed"
    },
    "tags": []
   },
   "outputs": [
    {
     "name": "stdout",
     "output_type": "stream",
     "text": [
      "model score for prediting casual count: 0.9226294838216818\n",
      "model score for prediting registered count: 0.970395797544881\n",
      "model score for prediting count: 0.9704984642511707\n"
     ]
    }
   ],
   "source": [
    "# XGBoost\n",
    "xgb_params = {'random_state': 42, \n",
    "              'n_estimators': 200, \n",
    "              'max_depth': 5, \n",
    "              'learning_rate': 0.1}\n",
    "\n",
    "XGB1 = xgb.XGBRegressor(**xgb_params)\n",
    "XGB1.fit(gb_x_train,y_casual)\n",
    "print(\"model score for prediting casual count:\",XGB1.score(gb_x_train,y_casual))\n",
    "\n",
    "XGB2 = xgb.XGBRegressor(**xgb_params)\n",
    "XGB2.fit(gb_x_train,y_registered)\n",
    "print(\"model score for prediting registered count:\",XGB2.score(gb_x_train,y_registered))\n",
    "\n",
    "XGB3 = xgb.XGBRegressor(**xgb_params)\n",
    "XGB3.fit(gb_x_train,y)\n",
    "print(\"model score for prediting count:\",XGB3.score(gb_x_train,y))"
   ]
  },
  {
   "cell_type": "code",
   "execution_count": 44,
   "id": "bc09aca6",
   "metadata": {
    "execution": {
     "iopub.execute_input": "2023-01-12T21:10:08.966917Z",
     "iopub.status.busy": "2023-01-12T21:10:08.965857Z",
     "iopub.status.idle": "2023-01-12T21:10:09.218227Z",
     "shell.execute_reply": "2023-01-12T21:10:09.217016Z"
    },
    "papermill": {
     "duration": 0.280652,
     "end_time": "2023-01-12T21:10:09.220826",
     "exception": false,
     "start_time": "2023-01-12T21:10:08.940174",
     "status": "completed"
    },
    "tags": []
   },
   "outputs": [
    {
     "data": {
      "text/plain": [
       "<Figure size 1080x864 with 0 Axes>"
      ]
     },
     "metadata": {},
     "output_type": "display_data"
    },
    {
     "data": {
      "image/png": "[encoded data removed]",
      "text/plain": [
       "<Figure size 432x288 with 1 Axes>"
      ]
     },
     "metadata": {
      "needs_background": "light"
     },
     "output_type": "display_data"
    }
   ],
   "source": [
    "from xgboost import plot_importance, plot_tree\n",
    "fig = plt.figure(figsize=(15,12))\n",
    "fig = plot_importance(XGB3, height=0.9,max_num_features = 25)\n",
    "plt.show()"
   ]
  },
  {
   "cell_type": "code",
   "execution_count": 45,
   "id": "5eb3edd6",
   "metadata": {
    "execution": {
     "iopub.execute_input": "2023-01-12T21:10:09.276649Z",
     "iopub.status.busy": "2023-01-12T21:10:09.276045Z",
     "iopub.status.idle": "2023-01-12T21:10:09.280407Z",
     "shell.execute_reply": "2023-01-12T21:10:09.279138Z"
    },
    "papermill": {
     "duration": 0.035853,
     "end_time": "2023-01-12T21:10:09.283604",
     "exception": false,
     "start_time": "2023-01-12T21:10:09.247751",
     "status": "completed"
    },
    "tags": []
   },
   "outputs": [],
   "source": [
    "# random forest\n",
    "# params = {'n_estimators': 1000, \n",
    "#           'max_depth': 15, \n",
    "#           'random_state': 0, \n",
    "#           'min_samples_split' : 2, \n",
    "#           'n_jobs': -1}\n",
    "\n",
    "# rfr = RandomForestRegressor(**params)\n",
    "# rfr.fit(X_train, yLog)\n",
    "# pred_rf = rfr.predict(X_test)"
   ]
  },
  {
   "cell_type": "code",
   "execution_count": 46,
   "id": "86ec3a2e",
   "metadata": {
    "execution": {
     "iopub.execute_input": "2023-01-12T21:10:09.336503Z",
     "iopub.status.busy": "2023-01-12T21:10:09.336104Z",
     "iopub.status.idle": "2023-01-12T21:10:14.053820Z",
     "shell.execute_reply": "2023-01-12T21:10:14.052084Z"
    },
    "papermill": {
     "duration": 4.747502,
     "end_time": "2023-01-12T21:10:14.057455",
     "exception": false,
     "start_time": "2023-01-12T21:10:09.309953",
     "status": "completed"
    },
    "tags": []
   },
   "outputs": [
    {
     "name": "stderr",
     "output_type": "stream",
     "text": [
      "/opt/conda/lib/python3.7/site-packages/sklearn/ensemble/_gb.py:290: FutureWarning: The loss 'ls' was deprecated in v1.0 and will be removed in version 1.2. Use 'squared_error' which is equivalent.\n",
      "  FutureWarning,\n"
     ]
    },
    {
     "name": "stdout",
     "output_type": "stream",
     "text": [
      "model score for prediting casual count: 0.9182308992500625\n"
     ]
    },
    {
     "name": "stderr",
     "output_type": "stream",
     "text": [
      "/opt/conda/lib/python3.7/site-packages/sklearn/ensemble/_gb.py:290: FutureWarning: The loss 'ls' was deprecated in v1.0 and will be removed in version 1.2. Use 'squared_error' which is equivalent.\n",
      "  FutureWarning,\n"
     ]
    },
    {
     "name": "stdout",
     "output_type": "stream",
     "text": [
      "model score for prediting registered count: 0.9681314008539198\n"
     ]
    },
    {
     "name": "stderr",
     "output_type": "stream",
     "text": [
      "/opt/conda/lib/python3.7/site-packages/sklearn/ensemble/_gb.py:290: FutureWarning: The loss 'ls' was deprecated in v1.0 and will be removed in version 1.2. Use 'squared_error' which is equivalent.\n",
      "  FutureWarning,\n"
     ]
    },
    {
     "name": "stdout",
     "output_type": "stream",
     "text": [
      "model score for prediting count: 0.9681860842764839\n"
     ]
    }
   ],
   "source": [
    "# gradient boosting\n",
    "from sklearn.ensemble import GradientBoostingRegressor\n",
    "\n",
    "gbr_params = {'n_estimators': 150, \n",
    "           'max_depth': 5, \n",
    "           'random_state': 0, \n",
    "           'min_samples_leaf' : 10, \n",
    "           'learning_rate': 0.1, \n",
    "           'subsample': 0.7, \n",
    "           'loss': 'ls'}\n",
    "\n",
    "GBR1 = GradientBoostingRegressor(**gbr_params)\n",
    "GBR1.fit(gb_x_train,y_casual)\n",
    "print(\"model score for prediting casual count:\",GBR1.score(gb_x_train,y_casual))\n",
    "\n",
    "GBR2 = GradientBoostingRegressor(**gbr_params)\n",
    "GBR2.fit(gb_x_train,y_registered)\n",
    "print(\"model score for prediting registered count:\",GBR2.score(gb_x_train,y_registered))\n",
    "\n",
    "GBR3 = GradientBoostingRegressor(**gbr_params)\n",
    "GBR3.fit(gb_x_train,y)\n",
    "print(\"model score for prediting count:\",GBR3.score(gb_x_train,y))\n"
   ]
  },
  {
   "cell_type": "code",
   "execution_count": 47,
   "id": "b63cad71",
   "metadata": {
    "execution": {
     "iopub.execute_input": "2023-01-12T21:10:14.109502Z",
     "iopub.status.busy": "2023-01-12T21:10:14.109085Z",
     "iopub.status.idle": "2023-01-12T21:10:14.180844Z",
     "shell.execute_reply": "2023-01-12T21:10:14.179689Z"
    },
    "papermill": {
     "duration": 0.100555,
     "end_time": "2023-01-12T21:10:14.183723",
     "exception": false,
     "start_time": "2023-01-12T21:10:14.083168",
     "status": "completed"
    },
    "tags": []
   },
   "outputs": [],
   "source": [
    "def prediction(x_test, models):\n",
    "    prediction = []\n",
    "    for model in models:\n",
    "        pre = model.predict(x_test)\n",
    "        pre = np.expm1(pre)\n",
    "        prediction.append(pre)\n",
    "    return sum(prediction)\n",
    "\n",
    "pred_xgb = prediction(gb_x_test, models=[XGB1, XGB2])\n",
    "pred_gbr = prediction(gb_x_test, models=[GBR1, GBR2])\n"
   ]
  },
  {
   "cell_type": "code",
   "execution_count": 48,
   "id": "661ed989",
   "metadata": {
    "execution": {
     "iopub.execute_input": "2023-01-12T21:10:14.235883Z",
     "iopub.status.busy": "2023-01-12T21:10:14.235498Z",
     "iopub.status.idle": "2023-01-12T21:10:14.241305Z",
     "shell.execute_reply": "2023-01-12T21:10:14.240072Z"
    },
    "papermill": {
     "duration": 0.034942,
     "end_time": "2023-01-12T21:10:14.243837",
     "exception": false,
     "start_time": "2023-01-12T21:10:14.208895",
     "status": "completed"
    },
    "tags": []
   },
   "outputs": [],
   "source": [
    "prediction = (0.6 * pred_xgb) + (0.4 * pred_gbr)"
   ]
  },
  {
   "cell_type": "code",
   "execution_count": 49,
   "id": "ff1a11d6",
   "metadata": {
    "execution": {
     "iopub.execute_input": "2023-01-12T21:10:14.298122Z",
     "iopub.status.busy": "2023-01-12T21:10:14.296834Z",
     "iopub.status.idle": "2023-01-12T21:10:14.332168Z",
     "shell.execute_reply": "2023-01-12T21:10:14.331266Z"
    },
    "papermill": {
     "duration": 0.064839,
     "end_time": "2023-01-12T21:10:14.334763",
     "exception": false,
     "start_time": "2023-01-12T21:10:14.269924",
     "status": "completed"
    },
    "tags": []
   },
   "outputs": [],
   "source": [
    "submit = pd.DataFrame({'datetime':x_date,'count':prediction})\n",
    "submit.to_csv('/kaggle/working/submisssion.csv',index=False)"
   ]
  }
 ],
 "metadata": {
  "kernelspec": {
   "display_name": "Python 3",
   "language": "python",
   "name": "python3"
  },
  "language_info": {
   "codemirror_mode": {
    "name": "ipython",
    "version": 3
   },
   "file_extension": ".py",
   "mimetype": "text/x-python",
   "name": "python",
   "nbconvert_exporter": "python",
   "pygments_lexer": "ipython3",
   "version": "3.7.12"
  },
  "papermill": {
   "default_parameters": {},
   "duration": 153.070936,
   "end_time": "2023-01-12T21:10:15.684742",
   "environment_variables": {},
   "exception": null,
   "input_path": "__notebook__.ipynb",
   "output_path": "__notebook__.ipynb",
   "parameters": {},
   "start_time": "2023-01-12T21:07:42.613806",
   "version": "2.3.4"
  }
 },
 "nbformat": 4,
 "nbformat_minor": 5
}
